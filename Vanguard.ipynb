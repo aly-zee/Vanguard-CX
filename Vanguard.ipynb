{
 "cells": [
  {
   "cell_type": "markdown",
   "id": "4bb0ca10",
   "metadata": {},
   "source": [
    "The digital world is evolving, and so are Vanguard’s clients. Vanguard believed that a more intuitive and modern User Interface (UI), coupled with timely in-context prompts (cues, messages, hints, or instructions provided to users directly within the context of their current task or action), could make the online process smoother for clients. The critical question was: Would these changes encourage more clients to complete the process?"
   ]
  },
  {
   "cell_type": "code",
   "execution_count": 1,
   "id": "285568ee",
   "metadata": {},
   "outputs": [],
   "source": [
    "import pandas as pd\n",
    "import matplotlib.pyplot as plt\n",
    "import seaborn as sns\n",
    "import numpy as np\n",
    "\n",
    "from scipy.stats import ttest_ind\n",
    "from scipy.stats import chi2_contingency\n",
    "%matplotlib inline"
   ]
  },
  {
   "cell_type": "code",
   "execution_count": 2,
   "id": "26196c8a",
   "metadata": {},
   "outputs": [],
   "source": [
    "# Demographics like age, gender, and account details of our clients.\n",
    "client_data = pd.read_csv(\"data\\df_final_demo.txt\")\n",
    "\n",
    "\n",
    "digital_foot_1 = pd.read_csv(\"data\\df_final_web_data_pt_1.txt\")\n",
    "digital_foot_2 = pd.read_csv(\"data\\df_final_web_data_pt_2.txt\")\n",
    "\n",
    "# A list revealing which clients were part of the grand experiment\n",
    "\n",
    "clients_included = pd.read_csv(\"data\\df_final_experiment_clients.txt\")\n"
   ]
  },
  {
   "cell_type": "code",
   "execution_count": 3,
   "id": "cd1714e2",
   "metadata": {},
   "outputs": [
    {
     "data": {
      "text/html": [
       "<div>\n",
       "<style scoped>\n",
       "    .dataframe tbody tr th:only-of-type {\n",
       "        vertical-align: middle;\n",
       "    }\n",
       "\n",
       "    .dataframe tbody tr th {\n",
       "        vertical-align: top;\n",
       "    }\n",
       "\n",
       "    .dataframe thead th {\n",
       "        text-align: right;\n",
       "    }\n",
       "</style>\n",
       "<table border=\"1\" class=\"dataframe\">\n",
       "  <thead>\n",
       "    <tr style=\"text-align: right;\">\n",
       "      <th></th>\n",
       "      <th>client_id</th>\n",
       "      <th>visitor_id</th>\n",
       "      <th>visit_id</th>\n",
       "      <th>process_step</th>\n",
       "      <th>date_time</th>\n",
       "    </tr>\n",
       "  </thead>\n",
       "  <tbody>\n",
       "    <tr>\n",
       "      <th>0</th>\n",
       "      <td>9988021</td>\n",
       "      <td>580560515_7732621733</td>\n",
       "      <td>781255054_21935453173_531117</td>\n",
       "      <td>step_3</td>\n",
       "      <td>2017-04-17 15:27:07</td>\n",
       "    </tr>\n",
       "    <tr>\n",
       "      <th>1</th>\n",
       "      <td>9988021</td>\n",
       "      <td>580560515_7732621733</td>\n",
       "      <td>781255054_21935453173_531117</td>\n",
       "      <td>step_2</td>\n",
       "      <td>2017-04-17 15:26:51</td>\n",
       "    </tr>\n",
       "    <tr>\n",
       "      <th>2</th>\n",
       "      <td>9988021</td>\n",
       "      <td>580560515_7732621733</td>\n",
       "      <td>781255054_21935453173_531117</td>\n",
       "      <td>step_3</td>\n",
       "      <td>2017-04-17 15:19:22</td>\n",
       "    </tr>\n",
       "    <tr>\n",
       "      <th>3</th>\n",
       "      <td>9988021</td>\n",
       "      <td>580560515_7732621733</td>\n",
       "      <td>781255054_21935453173_531117</td>\n",
       "      <td>step_2</td>\n",
       "      <td>2017-04-17 15:19:13</td>\n",
       "    </tr>\n",
       "    <tr>\n",
       "      <th>4</th>\n",
       "      <td>9988021</td>\n",
       "      <td>580560515_7732621733</td>\n",
       "      <td>781255054_21935453173_531117</td>\n",
       "      <td>step_3</td>\n",
       "      <td>2017-04-17 15:18:04</td>\n",
       "    </tr>\n",
       "  </tbody>\n",
       "</table>\n",
       "</div>"
      ],
      "text/plain": [
       "   client_id            visitor_id                      visit_id process_step  \\\n",
       "0    9988021  580560515_7732621733  781255054_21935453173_531117       step_3   \n",
       "1    9988021  580560515_7732621733  781255054_21935453173_531117       step_2   \n",
       "2    9988021  580560515_7732621733  781255054_21935453173_531117       step_3   \n",
       "3    9988021  580560515_7732621733  781255054_21935453173_531117       step_2   \n",
       "4    9988021  580560515_7732621733  781255054_21935453173_531117       step_3   \n",
       "\n",
       "             date_time  \n",
       "0  2017-04-17 15:27:07  \n",
       "1  2017-04-17 15:26:51  \n",
       "2  2017-04-17 15:19:22  \n",
       "3  2017-04-17 15:19:13  \n",
       "4  2017-04-17 15:18:04  "
      ]
     },
     "execution_count": 3,
     "metadata": {},
     "output_type": "execute_result"
    }
   ],
   "source": [
    "# merge the two digital foot print datasets\n",
    "\n",
    "digital_foot = pd.concat([digital_foot_1,digital_foot_2],axis=0)\n",
    "digital_foot.head()"
   ]
  },
  {
   "cell_type": "code",
   "execution_count": 4,
   "id": "530c45a0",
   "metadata": {},
   "outputs": [
    {
     "data": {
      "text/plain": [
       "(755405, 5)"
      ]
     },
     "execution_count": 4,
     "metadata": {},
     "output_type": "execute_result"
    }
   ],
   "source": [
    "digital_foot.shape"
   ]
  },
  {
   "cell_type": "code",
   "execution_count": 5,
   "id": "ac07c169",
   "metadata": {},
   "outputs": [
    {
     "data": {
      "text/plain": [
       "client_id       0\n",
       "visitor_id      0\n",
       "visit_id        0\n",
       "process_step    0\n",
       "date_time       0\n",
       "dtype: int64"
      ]
     },
     "execution_count": 5,
     "metadata": {},
     "output_type": "execute_result"
    }
   ],
   "source": [
    "digital_foot.isna().sum()"
   ]
  },
  {
   "cell_type": "code",
   "execution_count": 6,
   "id": "da7c4779",
   "metadata": {},
   "outputs": [
    {
     "data": {
      "text/html": [
       "<div>\n",
       "<style scoped>\n",
       "    .dataframe tbody tr th:only-of-type {\n",
       "        vertical-align: middle;\n",
       "    }\n",
       "\n",
       "    .dataframe tbody tr th {\n",
       "        vertical-align: top;\n",
       "    }\n",
       "\n",
       "    .dataframe thead th {\n",
       "        text-align: right;\n",
       "    }\n",
       "</style>\n",
       "<table border=\"1\" class=\"dataframe\">\n",
       "  <thead>\n",
       "    <tr style=\"text-align: right;\">\n",
       "      <th></th>\n",
       "      <th>client_id</th>\n",
       "      <th>clnt_tenure_yr</th>\n",
       "      <th>clnt_tenure_mnth</th>\n",
       "      <th>clnt_age</th>\n",
       "      <th>gendr</th>\n",
       "      <th>num_accts</th>\n",
       "      <th>bal</th>\n",
       "      <th>calls_6_mnth</th>\n",
       "      <th>logons_6_mnth</th>\n",
       "    </tr>\n",
       "  </thead>\n",
       "  <tbody>\n",
       "    <tr>\n",
       "      <th>0</th>\n",
       "      <td>836976</td>\n",
       "      <td>6.0</td>\n",
       "      <td>73.0</td>\n",
       "      <td>60.5</td>\n",
       "      <td>U</td>\n",
       "      <td>2.0</td>\n",
       "      <td>45105.30</td>\n",
       "      <td>6.0</td>\n",
       "      <td>9.0</td>\n",
       "    </tr>\n",
       "    <tr>\n",
       "      <th>1</th>\n",
       "      <td>2304905</td>\n",
       "      <td>7.0</td>\n",
       "      <td>94.0</td>\n",
       "      <td>58.0</td>\n",
       "      <td>U</td>\n",
       "      <td>2.0</td>\n",
       "      <td>110860.30</td>\n",
       "      <td>6.0</td>\n",
       "      <td>9.0</td>\n",
       "    </tr>\n",
       "    <tr>\n",
       "      <th>2</th>\n",
       "      <td>1439522</td>\n",
       "      <td>5.0</td>\n",
       "      <td>64.0</td>\n",
       "      <td>32.0</td>\n",
       "      <td>U</td>\n",
       "      <td>2.0</td>\n",
       "      <td>52467.79</td>\n",
       "      <td>6.0</td>\n",
       "      <td>9.0</td>\n",
       "    </tr>\n",
       "    <tr>\n",
       "      <th>3</th>\n",
       "      <td>1562045</td>\n",
       "      <td>16.0</td>\n",
       "      <td>198.0</td>\n",
       "      <td>49.0</td>\n",
       "      <td>M</td>\n",
       "      <td>2.0</td>\n",
       "      <td>67454.65</td>\n",
       "      <td>3.0</td>\n",
       "      <td>6.0</td>\n",
       "    </tr>\n",
       "    <tr>\n",
       "      <th>4</th>\n",
       "      <td>5126305</td>\n",
       "      <td>12.0</td>\n",
       "      <td>145.0</td>\n",
       "      <td>33.0</td>\n",
       "      <td>F</td>\n",
       "      <td>2.0</td>\n",
       "      <td>103671.75</td>\n",
       "      <td>0.0</td>\n",
       "      <td>3.0</td>\n",
       "    </tr>\n",
       "  </tbody>\n",
       "</table>\n",
       "</div>"
      ],
      "text/plain": [
       "   client_id  clnt_tenure_yr  clnt_tenure_mnth  clnt_age gendr  num_accts  \\\n",
       "0     836976             6.0              73.0      60.5     U        2.0   \n",
       "1    2304905             7.0              94.0      58.0     U        2.0   \n",
       "2    1439522             5.0              64.0      32.0     U        2.0   \n",
       "3    1562045            16.0             198.0      49.0     M        2.0   \n",
       "4    5126305            12.0             145.0      33.0     F        2.0   \n",
       "\n",
       "         bal  calls_6_mnth  logons_6_mnth  \n",
       "0   45105.30           6.0            9.0  \n",
       "1  110860.30           6.0            9.0  \n",
       "2   52467.79           6.0            9.0  \n",
       "3   67454.65           3.0            6.0  \n",
       "4  103671.75           0.0            3.0  "
      ]
     },
     "execution_count": 6,
     "metadata": {},
     "output_type": "execute_result"
    }
   ],
   "source": [
    "client_data.head()"
   ]
  },
  {
   "cell_type": "code",
   "execution_count": 7,
   "id": "9487b111",
   "metadata": {},
   "outputs": [
    {
     "data": {
      "text/html": [
       "<div>\n",
       "<style scoped>\n",
       "    .dataframe tbody tr th:only-of-type {\n",
       "        vertical-align: middle;\n",
       "    }\n",
       "\n",
       "    .dataframe tbody tr th {\n",
       "        vertical-align: top;\n",
       "    }\n",
       "\n",
       "    .dataframe thead th {\n",
       "        text-align: right;\n",
       "    }\n",
       "</style>\n",
       "<table border=\"1\" class=\"dataframe\">\n",
       "  <thead>\n",
       "    <tr style=\"text-align: right;\">\n",
       "      <th></th>\n",
       "      <th>client_id</th>\n",
       "      <th>clnt_tenure_yr</th>\n",
       "      <th>clnt_tenure_mnth</th>\n",
       "      <th>clnt_age</th>\n",
       "      <th>num_accts</th>\n",
       "      <th>bal</th>\n",
       "      <th>calls_6_mnth</th>\n",
       "      <th>logons_6_mnth</th>\n",
       "    </tr>\n",
       "  </thead>\n",
       "  <tbody>\n",
       "    <tr>\n",
       "      <th>count</th>\n",
       "      <td>7.060900e+04</td>\n",
       "      <td>70595.000000</td>\n",
       "      <td>70595.000000</td>\n",
       "      <td>70594.000000</td>\n",
       "      <td>70595.000000</td>\n",
       "      <td>7.059500e+04</td>\n",
       "      <td>70595.000000</td>\n",
       "      <td>70595.000000</td>\n",
       "    </tr>\n",
       "    <tr>\n",
       "      <th>mean</th>\n",
       "      <td>5.004992e+06</td>\n",
       "      <td>12.052950</td>\n",
       "      <td>150.659367</td>\n",
       "      <td>46.442240</td>\n",
       "      <td>2.255528</td>\n",
       "      <td>1.474452e+05</td>\n",
       "      <td>3.382478</td>\n",
       "      <td>5.566740</td>\n",
       "    </tr>\n",
       "    <tr>\n",
       "      <th>std</th>\n",
       "      <td>2.877278e+06</td>\n",
       "      <td>6.871819</td>\n",
       "      <td>82.089854</td>\n",
       "      <td>15.591273</td>\n",
       "      <td>0.534997</td>\n",
       "      <td>3.015087e+05</td>\n",
       "      <td>2.236580</td>\n",
       "      <td>2.353286</td>\n",
       "    </tr>\n",
       "    <tr>\n",
       "      <th>min</th>\n",
       "      <td>1.690000e+02</td>\n",
       "      <td>2.000000</td>\n",
       "      <td>33.000000</td>\n",
       "      <td>13.500000</td>\n",
       "      <td>1.000000</td>\n",
       "      <td>1.378942e+04</td>\n",
       "      <td>0.000000</td>\n",
       "      <td>1.000000</td>\n",
       "    </tr>\n",
       "    <tr>\n",
       "      <th>25%</th>\n",
       "      <td>2.519329e+06</td>\n",
       "      <td>6.000000</td>\n",
       "      <td>82.000000</td>\n",
       "      <td>32.500000</td>\n",
       "      <td>2.000000</td>\n",
       "      <td>3.734683e+04</td>\n",
       "      <td>1.000000</td>\n",
       "      <td>4.000000</td>\n",
       "    </tr>\n",
       "    <tr>\n",
       "      <th>50%</th>\n",
       "      <td>5.016978e+06</td>\n",
       "      <td>11.000000</td>\n",
       "      <td>136.000000</td>\n",
       "      <td>47.000000</td>\n",
       "      <td>2.000000</td>\n",
       "      <td>6.333290e+04</td>\n",
       "      <td>3.000000</td>\n",
       "      <td>5.000000</td>\n",
       "    </tr>\n",
       "    <tr>\n",
       "      <th>75%</th>\n",
       "      <td>7.483085e+06</td>\n",
       "      <td>16.000000</td>\n",
       "      <td>192.000000</td>\n",
       "      <td>59.000000</td>\n",
       "      <td>2.000000</td>\n",
       "      <td>1.375449e+05</td>\n",
       "      <td>6.000000</td>\n",
       "      <td>7.000000</td>\n",
       "    </tr>\n",
       "    <tr>\n",
       "      <th>max</th>\n",
       "      <td>9.999839e+06</td>\n",
       "      <td>62.000000</td>\n",
       "      <td>749.000000</td>\n",
       "      <td>96.000000</td>\n",
       "      <td>8.000000</td>\n",
       "      <td>1.632004e+07</td>\n",
       "      <td>7.000000</td>\n",
       "      <td>9.000000</td>\n",
       "    </tr>\n",
       "  </tbody>\n",
       "</table>\n",
       "</div>"
      ],
      "text/plain": [
       "          client_id  clnt_tenure_yr  clnt_tenure_mnth      clnt_age  \\\n",
       "count  7.060900e+04    70595.000000      70595.000000  70594.000000   \n",
       "mean   5.004992e+06       12.052950        150.659367     46.442240   \n",
       "std    2.877278e+06        6.871819         82.089854     15.591273   \n",
       "min    1.690000e+02        2.000000         33.000000     13.500000   \n",
       "25%    2.519329e+06        6.000000         82.000000     32.500000   \n",
       "50%    5.016978e+06       11.000000        136.000000     47.000000   \n",
       "75%    7.483085e+06       16.000000        192.000000     59.000000   \n",
       "max    9.999839e+06       62.000000        749.000000     96.000000   \n",
       "\n",
       "          num_accts           bal  calls_6_mnth  logons_6_mnth  \n",
       "count  70595.000000  7.059500e+04  70595.000000   70595.000000  \n",
       "mean       2.255528  1.474452e+05      3.382478       5.566740  \n",
       "std        0.534997  3.015087e+05      2.236580       2.353286  \n",
       "min        1.000000  1.378942e+04      0.000000       1.000000  \n",
       "25%        2.000000  3.734683e+04      1.000000       4.000000  \n",
       "50%        2.000000  6.333290e+04      3.000000       5.000000  \n",
       "75%        2.000000  1.375449e+05      6.000000       7.000000  \n",
       "max        8.000000  1.632004e+07      7.000000       9.000000  "
      ]
     },
     "execution_count": 7,
     "metadata": {},
     "output_type": "execute_result"
    }
   ],
   "source": [
    "client_data.describe()"
   ]
  },
  {
   "cell_type": "code",
   "execution_count": 8,
   "id": "28030771",
   "metadata": {},
   "outputs": [
    {
     "data": {
      "text/html": [
       "<div>\n",
       "<style scoped>\n",
       "    .dataframe tbody tr th:only-of-type {\n",
       "        vertical-align: middle;\n",
       "    }\n",
       "\n",
       "    .dataframe tbody tr th {\n",
       "        vertical-align: top;\n",
       "    }\n",
       "\n",
       "    .dataframe thead th {\n",
       "        text-align: right;\n",
       "    }\n",
       "</style>\n",
       "<table border=\"1\" class=\"dataframe\">\n",
       "  <thead>\n",
       "    <tr style=\"text-align: right;\">\n",
       "      <th></th>\n",
       "      <th>client_id</th>\n",
       "      <th>Variation</th>\n",
       "    </tr>\n",
       "  </thead>\n",
       "  <tbody>\n",
       "    <tr>\n",
       "      <th>0</th>\n",
       "      <td>9988021</td>\n",
       "      <td>Test</td>\n",
       "    </tr>\n",
       "    <tr>\n",
       "      <th>1</th>\n",
       "      <td>8320017</td>\n",
       "      <td>Test</td>\n",
       "    </tr>\n",
       "    <tr>\n",
       "      <th>2</th>\n",
       "      <td>4033851</td>\n",
       "      <td>Control</td>\n",
       "    </tr>\n",
       "    <tr>\n",
       "      <th>3</th>\n",
       "      <td>1982004</td>\n",
       "      <td>Test</td>\n",
       "    </tr>\n",
       "    <tr>\n",
       "      <th>4</th>\n",
       "      <td>9294070</td>\n",
       "      <td>Control</td>\n",
       "    </tr>\n",
       "    <tr>\n",
       "      <th>...</th>\n",
       "      <td>...</td>\n",
       "      <td>...</td>\n",
       "    </tr>\n",
       "    <tr>\n",
       "      <th>70604</th>\n",
       "      <td>2443347</td>\n",
       "      <td>NaN</td>\n",
       "    </tr>\n",
       "    <tr>\n",
       "      <th>70605</th>\n",
       "      <td>8788427</td>\n",
       "      <td>NaN</td>\n",
       "    </tr>\n",
       "    <tr>\n",
       "      <th>70606</th>\n",
       "      <td>266828</td>\n",
       "      <td>NaN</td>\n",
       "    </tr>\n",
       "    <tr>\n",
       "      <th>70607</th>\n",
       "      <td>1266421</td>\n",
       "      <td>NaN</td>\n",
       "    </tr>\n",
       "    <tr>\n",
       "      <th>70608</th>\n",
       "      <td>9895983</td>\n",
       "      <td>NaN</td>\n",
       "    </tr>\n",
       "  </tbody>\n",
       "</table>\n",
       "<p>70609 rows × 2 columns</p>\n",
       "</div>"
      ],
      "text/plain": [
       "       client_id Variation\n",
       "0        9988021      Test\n",
       "1        8320017      Test\n",
       "2        4033851   Control\n",
       "3        1982004      Test\n",
       "4        9294070   Control\n",
       "...          ...       ...\n",
       "70604    2443347       NaN\n",
       "70605    8788427       NaN\n",
       "70606     266828       NaN\n",
       "70607    1266421       NaN\n",
       "70608    9895983       NaN\n",
       "\n",
       "[70609 rows x 2 columns]"
      ]
     },
     "execution_count": 8,
     "metadata": {},
     "output_type": "execute_result"
    }
   ],
   "source": [
    "clients_included"
   ]
  },
  {
   "cell_type": "code",
   "execution_count": 9,
   "id": "97c7a67f",
   "metadata": {},
   "outputs": [
    {
     "data": {
      "text/plain": [
       "client_id        0\n",
       "Variation    20109\n",
       "dtype: int64"
      ]
     },
     "execution_count": 9,
     "metadata": {},
     "output_type": "execute_result"
    }
   ],
   "source": [
    "clients_included.isnull().sum()"
   ]
  },
  {
   "cell_type": "code",
   "execution_count": 10,
   "id": "6e89aa77",
   "metadata": {},
   "outputs": [
    {
     "data": {
      "text/plain": [
       "(50500, 2)"
      ]
     },
     "execution_count": 10,
     "metadata": {},
     "output_type": "execute_result"
    }
   ],
   "source": [
    "# drop the rows that are na from the clients that were in the control and test groups\n",
    "clients_included.dropna(inplace=True)\n",
    "clients_included.shape"
   ]
  },
  {
   "cell_type": "code",
   "execution_count": 11,
   "id": "bd686ba1",
   "metadata": {},
   "outputs": [
    {
     "data": {
      "text/html": [
       "<div>\n",
       "<style scoped>\n",
       "    .dataframe tbody tr th:only-of-type {\n",
       "        vertical-align: middle;\n",
       "    }\n",
       "\n",
       "    .dataframe tbody tr th {\n",
       "        vertical-align: top;\n",
       "    }\n",
       "\n",
       "    .dataframe thead th {\n",
       "        text-align: right;\n",
       "    }\n",
       "</style>\n",
       "<table border=\"1\" class=\"dataframe\">\n",
       "  <thead>\n",
       "    <tr style=\"text-align: right;\">\n",
       "      <th></th>\n",
       "      <th>client_id</th>\n",
       "      <th>Variation</th>\n",
       "    </tr>\n",
       "  </thead>\n",
       "  <tbody>\n",
       "    <tr>\n",
       "      <th>0</th>\n",
       "      <td>9988021</td>\n",
       "      <td>Test</td>\n",
       "    </tr>\n",
       "    <tr>\n",
       "      <th>1</th>\n",
       "      <td>8320017</td>\n",
       "      <td>Test</td>\n",
       "    </tr>\n",
       "    <tr>\n",
       "      <th>2</th>\n",
       "      <td>4033851</td>\n",
       "      <td>Control</td>\n",
       "    </tr>\n",
       "    <tr>\n",
       "      <th>3</th>\n",
       "      <td>1982004</td>\n",
       "      <td>Test</td>\n",
       "    </tr>\n",
       "    <tr>\n",
       "      <th>4</th>\n",
       "      <td>9294070</td>\n",
       "      <td>Control</td>\n",
       "    </tr>\n",
       "  </tbody>\n",
       "</table>\n",
       "</div>"
      ],
      "text/plain": [
       "   client_id Variation\n",
       "0    9988021      Test\n",
       "1    8320017      Test\n",
       "2    4033851   Control\n",
       "3    1982004      Test\n",
       "4    9294070   Control"
      ]
     },
     "execution_count": 11,
     "metadata": {},
     "output_type": "execute_result"
    }
   ],
   "source": [
    "clients_included.head()"
   ]
  },
  {
   "cell_type": "code",
   "execution_count": 12,
   "id": "6ea1a3b7",
   "metadata": {},
   "outputs": [
    {
     "data": {
      "text/html": [
       "<div>\n",
       "<style scoped>\n",
       "    .dataframe tbody tr th:only-of-type {\n",
       "        vertical-align: middle;\n",
       "    }\n",
       "\n",
       "    .dataframe tbody tr th {\n",
       "        vertical-align: top;\n",
       "    }\n",
       "\n",
       "    .dataframe thead th {\n",
       "        text-align: right;\n",
       "    }\n",
       "</style>\n",
       "<table border=\"1\" class=\"dataframe\">\n",
       "  <thead>\n",
       "    <tr style=\"text-align: right;\">\n",
       "      <th></th>\n",
       "      <th>client_id</th>\n",
       "      <th>clnt_tenure_yr</th>\n",
       "      <th>clnt_tenure_mnth</th>\n",
       "      <th>clnt_age</th>\n",
       "      <th>gendr</th>\n",
       "      <th>num_accts</th>\n",
       "      <th>bal</th>\n",
       "      <th>calls_6_mnth</th>\n",
       "      <th>logons_6_mnth</th>\n",
       "    </tr>\n",
       "  </thead>\n",
       "  <tbody>\n",
       "    <tr>\n",
       "      <th>0</th>\n",
       "      <td>836976</td>\n",
       "      <td>6.0</td>\n",
       "      <td>73.0</td>\n",
       "      <td>60.5</td>\n",
       "      <td>U</td>\n",
       "      <td>2.0</td>\n",
       "      <td>45105.30</td>\n",
       "      <td>6.0</td>\n",
       "      <td>9.0</td>\n",
       "    </tr>\n",
       "    <tr>\n",
       "      <th>1</th>\n",
       "      <td>2304905</td>\n",
       "      <td>7.0</td>\n",
       "      <td>94.0</td>\n",
       "      <td>58.0</td>\n",
       "      <td>U</td>\n",
       "      <td>2.0</td>\n",
       "      <td>110860.30</td>\n",
       "      <td>6.0</td>\n",
       "      <td>9.0</td>\n",
       "    </tr>\n",
       "    <tr>\n",
       "      <th>2</th>\n",
       "      <td>1439522</td>\n",
       "      <td>5.0</td>\n",
       "      <td>64.0</td>\n",
       "      <td>32.0</td>\n",
       "      <td>U</td>\n",
       "      <td>2.0</td>\n",
       "      <td>52467.79</td>\n",
       "      <td>6.0</td>\n",
       "      <td>9.0</td>\n",
       "    </tr>\n",
       "    <tr>\n",
       "      <th>3</th>\n",
       "      <td>1562045</td>\n",
       "      <td>16.0</td>\n",
       "      <td>198.0</td>\n",
       "      <td>49.0</td>\n",
       "      <td>M</td>\n",
       "      <td>2.0</td>\n",
       "      <td>67454.65</td>\n",
       "      <td>3.0</td>\n",
       "      <td>6.0</td>\n",
       "    </tr>\n",
       "    <tr>\n",
       "      <th>4</th>\n",
       "      <td>5126305</td>\n",
       "      <td>12.0</td>\n",
       "      <td>145.0</td>\n",
       "      <td>33.0</td>\n",
       "      <td>F</td>\n",
       "      <td>2.0</td>\n",
       "      <td>103671.75</td>\n",
       "      <td>0.0</td>\n",
       "      <td>3.0</td>\n",
       "    </tr>\n",
       "  </tbody>\n",
       "</table>\n",
       "</div>"
      ],
      "text/plain": [
       "   client_id  clnt_tenure_yr  clnt_tenure_mnth  clnt_age gendr  num_accts  \\\n",
       "0     836976             6.0              73.0      60.5     U        2.0   \n",
       "1    2304905             7.0              94.0      58.0     U        2.0   \n",
       "2    1439522             5.0              64.0      32.0     U        2.0   \n",
       "3    1562045            16.0             198.0      49.0     M        2.0   \n",
       "4    5126305            12.0             145.0      33.0     F        2.0   \n",
       "\n",
       "         bal  calls_6_mnth  logons_6_mnth  \n",
       "0   45105.30           6.0            9.0  \n",
       "1  110860.30           6.0            9.0  \n",
       "2   52467.79           6.0            9.0  \n",
       "3   67454.65           3.0            6.0  \n",
       "4  103671.75           0.0            3.0  "
      ]
     },
     "execution_count": 12,
     "metadata": {},
     "output_type": "execute_result"
    }
   ],
   "source": [
    "client_data.head()"
   ]
  },
  {
   "cell_type": "markdown",
   "id": "546a4183",
   "metadata": {},
   "source": [
    "## Univariate EDA"
   ]
  },
  {
   "cell_type": "markdown",
   "id": "5e719446",
   "metadata": {},
   "source": [
    "### Exploring Numercial and Categorical Variables"
   ]
  },
  {
   "cell_type": "markdown",
   "id": "f54976d7",
   "metadata": {},
   "source": [
    "#### Numerical Variables"
   ]
  },
  {
   "cell_type": "code",
   "execution_count": 13,
   "id": "2080023f",
   "metadata": {},
   "outputs": [
    {
     "data": {
      "text/plain": [
       "[dtype('O'), dtype('int64'), dtype('float64')]"
      ]
     },
     "execution_count": 13,
     "metadata": {},
     "output_type": "execute_result"
    }
   ],
   "source": [
    "# list of the data types in the df\n",
    "list(set(client_data.dtypes.to_list()))"
   ]
  },
  {
   "cell_type": "code",
   "execution_count": 14,
   "id": "2b2171b6",
   "metadata": {},
   "outputs": [
    {
     "data": {
      "text/plain": [
       "Index(['client_id'], dtype='object')"
      ]
     },
     "execution_count": 14,
     "metadata": {},
     "output_type": "execute_result"
    }
   ],
   "source": [
    "# find the numerical columns of clients_included df\n",
    "clients_included.select_dtypes(\"number\").columns"
   ]
  },
  {
   "cell_type": "code",
   "execution_count": 15,
   "id": "0042f282",
   "metadata": {},
   "outputs": [
    {
     "data": {
      "text/plain": [
       "Index(['client_id', 'clnt_tenure_yr', 'clnt_tenure_mnth', 'clnt_age',\n",
       "       'num_accts', 'bal', 'calls_6_mnth', 'logons_6_mnth'],\n",
       "      dtype='object')"
      ]
     },
     "execution_count": 15,
     "metadata": {},
     "output_type": "execute_result"
    }
   ],
   "source": [
    "# find the numerical columns of the client data\n",
    "client_data.select_dtypes('number').columns"
   ]
  },
  {
   "cell_type": "code",
   "execution_count": 16,
   "id": "922e2f59",
   "metadata": {},
   "outputs": [
    {
     "data": {
      "text/plain": [
       "Index(['client_id'], dtype='object')"
      ]
     },
     "execution_count": 16,
     "metadata": {},
     "output_type": "execute_result"
    }
   ],
   "source": [
    "# find the numerical columns of the digital foot data\n",
    "digital_foot.select_dtypes('number').columns"
   ]
  },
  {
   "cell_type": "markdown",
   "id": "9b6c1296",
   "metadata": {},
   "source": [
    "#### Categorical Variables"
   ]
  },
  {
   "cell_type": "code",
   "execution_count": 17,
   "id": "f840a5c5",
   "metadata": {},
   "outputs": [
    {
     "data": {
      "text/plain": [
       "Index(['gendr'], dtype='object')"
      ]
     },
     "execution_count": 17,
     "metadata": {},
     "output_type": "execute_result"
    }
   ],
   "source": [
    "# categorical data for the clients data\n",
    "client_data.select_dtypes(\"object\").columns"
   ]
  },
  {
   "cell_type": "code",
   "execution_count": 18,
   "id": "7e5e47dc",
   "metadata": {},
   "outputs": [
    {
     "data": {
      "text/plain": [
       "Index(['visitor_id', 'visit_id', 'process_step', 'date_time'], dtype='object')"
      ]
     },
     "execution_count": 18,
     "metadata": {},
     "output_type": "execute_result"
    }
   ],
   "source": [
    "# categorical data for the digital foot data\n",
    "digital_foot.select_dtypes(\"object\").columns"
   ]
  },
  {
   "cell_type": "code",
   "execution_count": 19,
   "id": "79308166",
   "metadata": {},
   "outputs": [
    {
     "data": {
      "text/plain": [
       "Index(['Variation'], dtype='object')"
      ]
     },
     "execution_count": 19,
     "metadata": {},
     "output_type": "execute_result"
    }
   ],
   "source": [
    "# categorical data for the client included data\n",
    "clients_included.select_dtypes(\"object\").columns"
   ]
  },
  {
   "cell_type": "markdown",
   "id": "fe7f509e",
   "metadata": {},
   "source": [
    "### Data Cleaning"
   ]
  },
  {
   "cell_type": "code",
   "execution_count": 20,
   "id": "fba0bcec",
   "metadata": {},
   "outputs": [
    {
     "data": {
      "text/plain": [
       "array(['U', 'M', 'F', 'X'], dtype=object)"
      ]
     },
     "execution_count": 20,
     "metadata": {},
     "output_type": "execute_result"
    }
   ],
   "source": [
    "# clean the gendr column to only have three categories\n",
    "# fillna with 'U'\n",
    "client_data['gendr'].fillna('U',inplace=True)\n",
    "client_data['gendr'].unique()"
   ]
  },
  {
   "cell_type": "code",
   "execution_count": 21,
   "id": "a093ec6f",
   "metadata": {},
   "outputs": [
    {
     "data": {
      "text/plain": [
       "array(['U', 'M', 'F'], dtype=object)"
      ]
     },
     "execution_count": 21,
     "metadata": {},
     "output_type": "execute_result"
    }
   ],
   "source": [
    "# replace the unknown value meaning from X to U\n",
    "client_data['gendr'].replace('X','U',inplace=True)\n",
    "client_data['gendr'].unique()"
   ]
  },
  {
   "cell_type": "code",
   "execution_count": 22,
   "id": "b9898c9a",
   "metadata": {},
   "outputs": [
    {
     "data": {
      "text/plain": [
       "client_id            0\n",
       "clnt_tenure_yr      14\n",
       "clnt_tenure_mnth    14\n",
       "clnt_age            15\n",
       "gendr                0\n",
       "num_accts           14\n",
       "bal                 14\n",
       "calls_6_mnth        14\n",
       "logons_6_mnth       14\n",
       "dtype: int64"
      ]
     },
     "execution_count": 22,
     "metadata": {},
     "output_type": "execute_result"
    }
   ],
   "source": [
    "client_data.isna().sum()"
   ]
  },
  {
   "cell_type": "code",
   "execution_count": 23,
   "id": "e56aee6f",
   "metadata": {},
   "outputs": [],
   "source": [
    "# replace the na values in client age with the mode\n",
    "client_data['clnt_age'].fillna(client_data['clnt_age'].mode()[0], inplace=True)"
   ]
  },
  {
   "cell_type": "code",
   "execution_count": 24,
   "id": "1b30d61f",
   "metadata": {},
   "outputs": [
    {
     "data": {
      "text/plain": [
       "client_id            0\n",
       "clnt_tenure_yr      14\n",
       "clnt_tenure_mnth    14\n",
       "clnt_age             0\n",
       "gendr                0\n",
       "num_accts           14\n",
       "bal                 14\n",
       "calls_6_mnth        14\n",
       "logons_6_mnth       14\n",
       "dtype: int64"
      ]
     },
     "execution_count": 24,
     "metadata": {},
     "output_type": "execute_result"
    }
   ],
   "source": [
    "client_data.isnull().sum()"
   ]
  },
  {
   "cell_type": "markdown",
   "id": "43a9148e",
   "metadata": {},
   "source": [
    "## Univariate Analysis"
   ]
  },
  {
   "cell_type": "markdown",
   "id": "cf849bfe",
   "metadata": {},
   "source": [
    "#### Frequency Table for the categorical variables"
   ]
  },
  {
   "cell_type": "code",
   "execution_count": 25,
   "id": "e35c0b44",
   "metadata": {},
   "outputs": [
    {
     "data": {
      "text/html": [
       "<div>\n",
       "<style scoped>\n",
       "    .dataframe tbody tr th:only-of-type {\n",
       "        vertical-align: middle;\n",
       "    }\n",
       "\n",
       "    .dataframe tbody tr th {\n",
       "        vertical-align: top;\n",
       "    }\n",
       "\n",
       "    .dataframe thead th {\n",
       "        text-align: right;\n",
       "    }\n",
       "</style>\n",
       "<table border=\"1\" class=\"dataframe\">\n",
       "  <thead>\n",
       "    <tr style=\"text-align: right;\">\n",
       "      <th>col_0</th>\n",
       "      <th>count</th>\n",
       "    </tr>\n",
       "    <tr>\n",
       "      <th>gendr</th>\n",
       "      <th></th>\n",
       "    </tr>\n",
       "  </thead>\n",
       "  <tbody>\n",
       "    <tr>\n",
       "      <th>F</th>\n",
       "      <td>22746</td>\n",
       "    </tr>\n",
       "    <tr>\n",
       "      <th>M</th>\n",
       "      <td>23724</td>\n",
       "    </tr>\n",
       "    <tr>\n",
       "      <th>U</th>\n",
       "      <td>24139</td>\n",
       "    </tr>\n",
       "  </tbody>\n",
       "</table>\n",
       "</div>"
      ],
      "text/plain": [
       "col_0  count\n",
       "gendr       \n",
       "F      22746\n",
       "M      23724\n",
       "U      24139"
      ]
     },
     "execution_count": 25,
     "metadata": {},
     "output_type": "execute_result"
    }
   ],
   "source": [
    "# freq table for gender for all clients\n",
    "gender_freq = client_data['gendr'].value_counts()\n",
    "gender_freq\n",
    "\n",
    "# crosstab for gender\n",
    "gender_crosstab = pd.crosstab(index=client_data['gendr'],columns=\"count\")\n",
    "gender_crosstab"
   ]
  },
  {
   "cell_type": "code",
   "execution_count": 26,
   "id": "86596ffb",
   "metadata": {},
   "outputs": [
    {
     "data": {
      "text/html": [
       "<div>\n",
       "<style scoped>\n",
       "    .dataframe tbody tr th:only-of-type {\n",
       "        vertical-align: middle;\n",
       "    }\n",
       "\n",
       "    .dataframe tbody tr th {\n",
       "        vertical-align: top;\n",
       "    }\n",
       "\n",
       "    .dataframe thead th {\n",
       "        text-align: right;\n",
       "    }\n",
       "</style>\n",
       "<table border=\"1\" class=\"dataframe\">\n",
       "  <thead>\n",
       "    <tr style=\"text-align: right;\">\n",
       "      <th>col_0</th>\n",
       "      <th>count</th>\n",
       "    </tr>\n",
       "    <tr>\n",
       "      <th>process_step</th>\n",
       "      <th></th>\n",
       "    </tr>\n",
       "  </thead>\n",
       "  <tbody>\n",
       "    <tr>\n",
       "      <th>confirm</th>\n",
       "      <td>102963</td>\n",
       "    </tr>\n",
       "    <tr>\n",
       "      <th>start</th>\n",
       "      <td>243945</td>\n",
       "    </tr>\n",
       "    <tr>\n",
       "      <th>step_1</th>\n",
       "      <td>163193</td>\n",
       "    </tr>\n",
       "    <tr>\n",
       "      <th>step_2</th>\n",
       "      <td>133062</td>\n",
       "    </tr>\n",
       "    <tr>\n",
       "      <th>step_3</th>\n",
       "      <td>112242</td>\n",
       "    </tr>\n",
       "  </tbody>\n",
       "</table>\n",
       "</div>"
      ],
      "text/plain": [
       "col_0          count\n",
       "process_step        \n",
       "confirm       102963\n",
       "start         243945\n",
       "step_1        163193\n",
       "step_2        133062\n",
       "step_3        112242"
      ]
     },
     "execution_count": 26,
     "metadata": {},
     "output_type": "execute_result"
    }
   ],
   "source": [
    "# Freq table for process step\n",
    "# process_step_freq = digital_foot['process_step'].value_counts()\n",
    "# process_step_freq\n",
    "process_table = pd.crosstab(index = digital_foot['process_step'],columns = \"count\")\n",
    "process_table"
   ]
  },
  {
   "cell_type": "code",
   "execution_count": 27,
   "id": "e0161b2c",
   "metadata": {},
   "outputs": [
    {
     "data": {
      "text/plain": [
       "start      0.322933\n",
       "step_1     0.216034\n",
       "step_2     0.176147\n",
       "step_3     0.148585\n",
       "confirm    0.136302\n",
       "Name: process_step, dtype: float64"
      ]
     },
     "execution_count": 27,
     "metadata": {},
     "output_type": "execute_result"
    }
   ],
   "source": [
    "proportion_steps = digital_foot['process_step'].value_counts(normalize=True)\n",
    "proportion_steps"
   ]
  },
  {
   "cell_type": "code",
   "execution_count": 28,
   "id": "6c4e7e89",
   "metadata": {},
   "outputs": [
    {
     "data": {
      "text/plain": [
       "Test       0.53402\n",
       "Control    0.46598\n",
       "Name: Variation, dtype: float64"
      ]
     },
     "execution_count": 28,
     "metadata": {},
     "output_type": "execute_result"
    }
   ],
   "source": [
    "# Test/Control crosstab\n",
    "variation_table = pd.crosstab(index = clients_included['Variation'],columns='count')\n",
    "variation_table\n",
    "\n",
    "# proportion of the test/control to varify that the data test/control are close to equally split\n",
    "variation_prop=clients_included['Variation'].value_counts(normalize=True)\n",
    "variation_prop"
   ]
  },
  {
   "cell_type": "markdown",
   "id": "c387e809",
   "metadata": {},
   "source": [
    "### Univariate Visualization"
   ]
  },
  {
   "cell_type": "markdown",
   "id": "ea17bb56",
   "metadata": {},
   "source": [
    "#### Categorical Visualization"
   ]
  },
  {
   "cell_type": "code",
   "execution_count": 29,
   "id": "fb4680a7",
   "metadata": {},
   "outputs": [
    {
     "data": {
      "text/plain": [
       "<Axes: xlabel='gendr', ylabel='count'>"
      ]
     },
     "execution_count": 29,
     "metadata": {},
     "output_type": "execute_result"
    },
    {
     "data": {
      "image/png": "[encoded data removed]",
      "text/plain": [
       "<Figure size 640x480 with 1 Axes>"
      ]
     },
     "metadata": {},
     "output_type": "display_data"
    }
   ],
   "source": [
    "# countplot for gender\n",
    "sns.countplot(data=client_data, x='gendr', palette=\"Set2\")"
   ]
  },
  {
   "cell_type": "markdown",
   "id": "3225d653",
   "metadata": {},
   "source": [
    "##### The gender categories appear to be close to equally split into the three categories"
   ]
  },
  {
   "cell_type": "code",
   "execution_count": 30,
   "id": "fb810854",
   "metadata": {},
   "outputs": [
    {
     "data": {
      "image/png": "[encoded data removed]",
      "text/plain": [
       "<Figure size 640x480 with 1 Axes>"
      ]
     },
     "metadata": {},
     "output_type": "display_data"
    }
   ],
   "source": [
    "# plot the barplot for the process step count\n",
    "sns.barplot(x=process_table.index, y=process_table[\"count\"], palette=\"Set2\");"
   ]
  },
  {
   "cell_type": "markdown",
   "id": "63d01d21",
   "metadata": {},
   "source": [
    "##### From the digital foot print data only about half get to the confirm step of the process"
   ]
  },
  {
   "cell_type": "code",
   "execution_count": 31,
   "id": "eb8170f4",
   "metadata": {},
   "outputs": [
    {
     "data": {
      "image/png": "[encoded data removed]",
      "text/plain": [
       "<Figure size 640x480 with 1 Axes>"
      ]
     },
     "metadata": {},
     "output_type": "display_data"
    }
   ],
   "source": [
    "# plot the bar plot for the count of test/control\n",
    "sns.barplot(x=variation_table.index, y=variation_table[\"count\"]);"
   ]
  },
  {
   "cell_type": "markdown",
   "id": "8be2ea38",
   "metadata": {},
   "source": [
    "##### the control and the test appear to be equally divided in the clients data "
   ]
  },
  {
   "cell_type": "markdown",
   "id": "735d3018",
   "metadata": {},
   "source": [
    "#### Univariate Numerical visualization"
   ]
  },
  {
   "cell_type": "code",
   "execution_count": 32,
   "id": "d262b8a9",
   "metadata": {},
   "outputs": [
    {
     "data": {
      "text/html": [
       "<div>\n",
       "<style scoped>\n",
       "    .dataframe tbody tr th:only-of-type {\n",
       "        vertical-align: middle;\n",
       "    }\n",
       "\n",
       "    .dataframe tbody tr th {\n",
       "        vertical-align: top;\n",
       "    }\n",
       "\n",
       "    .dataframe thead th {\n",
       "        text-align: right;\n",
       "    }\n",
       "</style>\n",
       "<table border=\"1\" class=\"dataframe\">\n",
       "  <thead>\n",
       "    <tr style=\"text-align: right;\">\n",
       "      <th></th>\n",
       "      <th>client_id</th>\n",
       "      <th>clnt_tenure_yr</th>\n",
       "      <th>clnt_tenure_mnth</th>\n",
       "      <th>clnt_age</th>\n",
       "      <th>num_accts</th>\n",
       "      <th>bal</th>\n",
       "      <th>calls_6_mnth</th>\n",
       "      <th>logons_6_mnth</th>\n",
       "    </tr>\n",
       "  </thead>\n",
       "  <tbody>\n",
       "    <tr>\n",
       "      <th>count</th>\n",
       "      <td>7.060900e+04</td>\n",
       "      <td>70595.000000</td>\n",
       "      <td>70595.000000</td>\n",
       "      <td>70609.000000</td>\n",
       "      <td>70595.000000</td>\n",
       "      <td>7.059500e+04</td>\n",
       "      <td>70595.000000</td>\n",
       "      <td>70595.000000</td>\n",
       "    </tr>\n",
       "    <tr>\n",
       "      <th>mean</th>\n",
       "      <td>5.004992e+06</td>\n",
       "      <td>12.052950</td>\n",
       "      <td>150.659367</td>\n",
       "      <td>46.444802</td>\n",
       "      <td>2.255528</td>\n",
       "      <td>1.474452e+05</td>\n",
       "      <td>3.382478</td>\n",
       "      <td>5.566740</td>\n",
       "    </tr>\n",
       "    <tr>\n",
       "      <th>std</th>\n",
       "      <td>2.877278e+06</td>\n",
       "      <td>6.871819</td>\n",
       "      <td>82.089854</td>\n",
       "      <td>15.590607</td>\n",
       "      <td>0.534997</td>\n",
       "      <td>3.015087e+05</td>\n",
       "      <td>2.236580</td>\n",
       "      <td>2.353286</td>\n",
       "    </tr>\n",
       "    <tr>\n",
       "      <th>min</th>\n",
       "      <td>1.690000e+02</td>\n",
       "      <td>2.000000</td>\n",
       "      <td>33.000000</td>\n",
       "      <td>13.500000</td>\n",
       "      <td>1.000000</td>\n",
       "      <td>1.378942e+04</td>\n",
       "      <td>0.000000</td>\n",
       "      <td>1.000000</td>\n",
       "    </tr>\n",
       "    <tr>\n",
       "      <th>25%</th>\n",
       "      <td>2.519329e+06</td>\n",
       "      <td>6.000000</td>\n",
       "      <td>82.000000</td>\n",
       "      <td>32.500000</td>\n",
       "      <td>2.000000</td>\n",
       "      <td>3.734683e+04</td>\n",
       "      <td>1.000000</td>\n",
       "      <td>4.000000</td>\n",
       "    </tr>\n",
       "    <tr>\n",
       "      <th>50%</th>\n",
       "      <td>5.016978e+06</td>\n",
       "      <td>11.000000</td>\n",
       "      <td>136.000000</td>\n",
       "      <td>47.000000</td>\n",
       "      <td>2.000000</td>\n",
       "      <td>6.333290e+04</td>\n",
       "      <td>3.000000</td>\n",
       "      <td>5.000000</td>\n",
       "    </tr>\n",
       "    <tr>\n",
       "      <th>75%</th>\n",
       "      <td>7.483085e+06</td>\n",
       "      <td>16.000000</td>\n",
       "      <td>192.000000</td>\n",
       "      <td>59.000000</td>\n",
       "      <td>2.000000</td>\n",
       "      <td>1.375449e+05</td>\n",
       "      <td>6.000000</td>\n",
       "      <td>7.000000</td>\n",
       "    </tr>\n",
       "    <tr>\n",
       "      <th>max</th>\n",
       "      <td>9.999839e+06</td>\n",
       "      <td>62.000000</td>\n",
       "      <td>749.000000</td>\n",
       "      <td>96.000000</td>\n",
       "      <td>8.000000</td>\n",
       "      <td>1.632004e+07</td>\n",
       "      <td>7.000000</td>\n",
       "      <td>9.000000</td>\n",
       "    </tr>\n",
       "  </tbody>\n",
       "</table>\n",
       "</div>"
      ],
      "text/plain": [
       "          client_id  clnt_tenure_yr  clnt_tenure_mnth      clnt_age  \\\n",
       "count  7.060900e+04    70595.000000      70595.000000  70609.000000   \n",
       "mean   5.004992e+06       12.052950        150.659367     46.444802   \n",
       "std    2.877278e+06        6.871819         82.089854     15.590607   \n",
       "min    1.690000e+02        2.000000         33.000000     13.500000   \n",
       "25%    2.519329e+06        6.000000         82.000000     32.500000   \n",
       "50%    5.016978e+06       11.000000        136.000000     47.000000   \n",
       "75%    7.483085e+06       16.000000        192.000000     59.000000   \n",
       "max    9.999839e+06       62.000000        749.000000     96.000000   \n",
       "\n",
       "          num_accts           bal  calls_6_mnth  logons_6_mnth  \n",
       "count  70595.000000  7.059500e+04  70595.000000   70595.000000  \n",
       "mean       2.255528  1.474452e+05      3.382478       5.566740  \n",
       "std        0.534997  3.015087e+05      2.236580       2.353286  \n",
       "min        1.000000  1.378942e+04      0.000000       1.000000  \n",
       "25%        2.000000  3.734683e+04      1.000000       4.000000  \n",
       "50%        2.000000  6.333290e+04      3.000000       5.000000  \n",
       "75%        2.000000  1.375449e+05      6.000000       7.000000  \n",
       "max        8.000000  1.632004e+07      7.000000       9.000000  "
      ]
     },
     "execution_count": 32,
     "metadata": {},
     "output_type": "execute_result"
    }
   ],
   "source": [
    "# client_data: client age, num_accts, bal\n",
    "client_data.describe()"
   ]
  },
  {
   "cell_type": "markdown",
   "id": "0f844ce6",
   "metadata": {},
   "source": [
    "**Measures of Centrality**"
   ]
  },
  {
   "cell_type": "code",
   "execution_count": 33,
   "id": "e1e750dc",
   "metadata": {},
   "outputs": [
    {
     "data": {
      "text/plain": [
       "(147445.24064140575, 31188.62, 63332.9)"
      ]
     },
     "execution_count": 33,
     "metadata": {},
     "output_type": "execute_result"
    }
   ],
   "source": [
    "# measures of centrality for account balances\n",
    "mean_acctBal = client_data['bal'].mean()\n",
    "mode_accBal =  client_data['bal'].mode()[0]\n",
    "median_accbal = client_data['bal'].median()\n",
    "\n",
    "mean_acctBal, mode_accBal, median_accbal"
   ]
  },
  {
   "cell_type": "code",
   "execution_count": 34,
   "id": "2f4336e3",
   "metadata": {},
   "outputs": [
    {
     "data": {
      "text/plain": [
       "(46.44480165418006, 58.5, 47.0)"
      ]
     },
     "execution_count": 34,
     "metadata": {},
     "output_type": "execute_result"
    }
   ],
   "source": [
    "# measures of centrality for age\n",
    "mean_age = client_data['clnt_age'].mean()\n",
    "mode_age = client_data['clnt_age'].mode()[0]\n",
    "median_age = client_data['clnt_age'].median()\n",
    "\n",
    "mean_age, mode_age, median_age"
   ]
  },
  {
   "cell_type": "code",
   "execution_count": 35,
   "id": "89421fdb",
   "metadata": {},
   "outputs": [
    {
     "data": {
      "text/plain": [
       "dtype('int32')"
      ]
     },
     "execution_count": 35,
     "metadata": {},
     "output_type": "execute_result"
    }
   ],
   "source": [
    "client_data['bal'].fillna(client_data['bal'].mode()[0],inplace=True)\n",
    "client_data['bal'] = client_data['bal'].astype(int)\n",
    "client_data['bal'].dtypes"
   ]
  },
  {
   "cell_type": "markdown",
   "id": "bb7e5aa4",
   "metadata": {},
   "source": [
    "#### Univarte Numerical Visualization"
   ]
  },
  {
   "cell_type": "code",
   "execution_count": 36,
   "id": "af15df64",
   "metadata": {},
   "outputs": [
    {
     "data": {
      "text/plain": [
       "<Axes: xlabel='clnt_age', ylabel='Count'>"
      ]
     },
     "execution_count": 36,
     "metadata": {},
     "output_type": "execute_result"
    },
    {
     "data": {
      "image/png": "[encoded data removed]",
      "text/plain": [
       "<Figure size 640x480 with 1 Axes>"
      ]
     },
     "metadata": {},
     "output_type": "display_data"
    }
   ],
   "source": [
    "# histogram to show age dispersion\n",
    "sns.histplot(client_data['clnt_age'],kde=True,bins = 10,color='blue')"
   ]
  },
  {
   "cell_type": "code",
   "execution_count": null,
   "id": "46d89043",
   "metadata": {},
   "outputs": [],
   "source": []
  },
  {
   "cell_type": "code",
   "execution_count": 37,
   "id": "b78e9a17",
   "metadata": {},
   "outputs": [
    {
     "data": {
      "text/plain": [
       "<Axes: xlabel='bal', ylabel='Count'>"
      ]
     },
     "execution_count": 37,
     "metadata": {},
     "output_type": "execute_result"
    },
    {
     "data": {
      "image/png": "[encoded data removed]",
      "text/plain": [
       "<Figure size 640x480 with 1 Axes>"
      ]
     },
     "metadata": {},
     "output_type": "display_data"
    }
   ],
   "source": [
    "# Histogram to show the account balance dispersion\n",
    "sns.histplot(client_data['bal'],kde=True,bins=5,color='blue')"
   ]
  },
  {
   "cell_type": "code",
   "execution_count": 38,
   "id": "13e55a93",
   "metadata": {},
   "outputs": [
    {
     "data": {
      "text/html": [
       "<div>\n",
       "<style scoped>\n",
       "    .dataframe tbody tr th:only-of-type {\n",
       "        vertical-align: middle;\n",
       "    }\n",
       "\n",
       "    .dataframe tbody tr th {\n",
       "        vertical-align: top;\n",
       "    }\n",
       "\n",
       "    .dataframe thead th {\n",
       "        text-align: right;\n",
       "    }\n",
       "</style>\n",
       "<table border=\"1\" class=\"dataframe\">\n",
       "  <thead>\n",
       "    <tr style=\"text-align: right;\">\n",
       "      <th></th>\n",
       "      <th>num_accts</th>\n",
       "      <th>calls_6_mnth</th>\n",
       "      <th>logons_6_mnth</th>\n",
       "    </tr>\n",
       "  </thead>\n",
       "  <tbody>\n",
       "    <tr>\n",
       "      <th>0</th>\n",
       "      <td>2.0</td>\n",
       "      <td>6.0</td>\n",
       "      <td>9.0</td>\n",
       "    </tr>\n",
       "    <tr>\n",
       "      <th>1</th>\n",
       "      <td>2.0</td>\n",
       "      <td>6.0</td>\n",
       "      <td>9.0</td>\n",
       "    </tr>\n",
       "    <tr>\n",
       "      <th>2</th>\n",
       "      <td>2.0</td>\n",
       "      <td>6.0</td>\n",
       "      <td>9.0</td>\n",
       "    </tr>\n",
       "    <tr>\n",
       "      <th>3</th>\n",
       "      <td>2.0</td>\n",
       "      <td>3.0</td>\n",
       "      <td>6.0</td>\n",
       "    </tr>\n",
       "    <tr>\n",
       "      <th>4</th>\n",
       "      <td>2.0</td>\n",
       "      <td>0.0</td>\n",
       "      <td>3.0</td>\n",
       "    </tr>\n",
       "    <tr>\n",
       "      <th>...</th>\n",
       "      <td>...</td>\n",
       "      <td>...</td>\n",
       "      <td>...</td>\n",
       "    </tr>\n",
       "    <tr>\n",
       "      <th>70604</th>\n",
       "      <td>3.0</td>\n",
       "      <td>5.0</td>\n",
       "      <td>5.0</td>\n",
       "    </tr>\n",
       "    <tr>\n",
       "      <th>70605</th>\n",
       "      <td>2.0</td>\n",
       "      <td>6.0</td>\n",
       "      <td>6.0</td>\n",
       "    </tr>\n",
       "    <tr>\n",
       "      <th>70606</th>\n",
       "      <td>2.0</td>\n",
       "      <td>3.0</td>\n",
       "      <td>3.0</td>\n",
       "    </tr>\n",
       "    <tr>\n",
       "      <th>70607</th>\n",
       "      <td>3.0</td>\n",
       "      <td>4.0</td>\n",
       "      <td>4.0</td>\n",
       "    </tr>\n",
       "    <tr>\n",
       "      <th>70608</th>\n",
       "      <td>3.0</td>\n",
       "      <td>7.0</td>\n",
       "      <td>7.0</td>\n",
       "    </tr>\n",
       "  </tbody>\n",
       "</table>\n",
       "<p>70609 rows × 3 columns</p>\n",
       "</div>"
      ],
      "text/plain": [
       "       num_accts  calls_6_mnth  logons_6_mnth\n",
       "0            2.0           6.0            9.0\n",
       "1            2.0           6.0            9.0\n",
       "2            2.0           6.0            9.0\n",
       "3            2.0           3.0            6.0\n",
       "4            2.0           0.0            3.0\n",
       "...          ...           ...            ...\n",
       "70604        3.0           5.0            5.0\n",
       "70605        2.0           6.0            6.0\n",
       "70606        2.0           3.0            3.0\n",
       "70607        3.0           4.0            4.0\n",
       "70608        3.0           7.0            7.0\n",
       "\n",
       "[70609 rows x 3 columns]"
      ]
     },
     "execution_count": 38,
     "metadata": {},
     "output_type": "execute_result"
    }
   ],
   "source": [
    "potential_categorical_from_numerical = client_data.select_dtypes(\"number\").loc[:, client_data.select_dtypes(\"number\").nunique() < 20]\n",
    "potential_categorical_from_numerical"
   ]
  },
  {
   "cell_type": "code",
   "execution_count": 39,
   "id": "036dfa12",
   "metadata": {},
   "outputs": [],
   "source": [
    "# histogram for each numerical column in the client data\n",
    "client_data_numerical = client_data.select_dtypes(\"number\").drop(columns=potential_categorical_from_numerical.columns)"
   ]
  },
  {
   "cell_type": "code",
   "execution_count": 40,
   "id": "9ba7ca9c",
   "metadata": {},
   "outputs": [
    {
     "data": {
      "image/png": "[encoded data removed]",
      "text/plain": [
       "<Figure size 1500x2000 with 6 Axes>"
      ]
     },
     "metadata": {},
     "output_type": "display_data"
    }
   ],
   "source": [
    "# Creating histograms for each numerical column in 'client_data_numerical'\n",
    "client_data_numerical.hist(figsize=(15, 20), bins=60, xlabelsize=10, ylabelsize=10);"
   ]
  },
  {
   "cell_type": "code",
   "execution_count": 41,
   "id": "868b92c3",
   "metadata": {},
   "outputs": [
    {
     "data": {
      "text/plain": [
       "<Axes: >"
      ]
     },
     "execution_count": 41,
     "metadata": {},
     "output_type": "execute_result"
    },
    {
     "data": {
      "image/png": "[encoded data removed]",
      "text/plain": [
       "<Figure size 640x480 with 1 Axes>"
      ]
     },
     "metadata": {},
     "output_type": "display_data"
    }
   ],
   "source": [
    "# boxplot for the bal column\n",
    "sns.boxplot(data = client_data['bal'], color = 'blue')"
   ]
  },
  {
   "cell_type": "code",
   "execution_count": null,
   "id": "5dbb3a7d",
   "metadata": {},
   "outputs": [],
   "source": []
  },
  {
   "cell_type": "markdown",
   "id": "3b1bea36",
   "metadata": {},
   "source": [
    "# EDA Bivariate Analysis"
   ]
  },
  {
   "cell_type": "code",
   "execution_count": 42,
   "id": "6545a117",
   "metadata": {},
   "outputs": [
    {
     "data": {
      "text/html": [
       "<div>\n",
       "<style scoped>\n",
       "    .dataframe tbody tr th:only-of-type {\n",
       "        vertical-align: middle;\n",
       "    }\n",
       "\n",
       "    .dataframe tbody tr th {\n",
       "        vertical-align: top;\n",
       "    }\n",
       "\n",
       "    .dataframe thead th {\n",
       "        text-align: right;\n",
       "    }\n",
       "</style>\n",
       "<table border=\"1\" class=\"dataframe\">\n",
       "  <thead>\n",
       "    <tr style=\"text-align: right;\">\n",
       "      <th></th>\n",
       "      <th>client_id</th>\n",
       "      <th>Variation</th>\n",
       "    </tr>\n",
       "  </thead>\n",
       "  <tbody>\n",
       "    <tr>\n",
       "      <th>0</th>\n",
       "      <td>9988021</td>\n",
       "      <td>Test</td>\n",
       "    </tr>\n",
       "    <tr>\n",
       "      <th>1</th>\n",
       "      <td>8320017</td>\n",
       "      <td>Test</td>\n",
       "    </tr>\n",
       "    <tr>\n",
       "      <th>2</th>\n",
       "      <td>4033851</td>\n",
       "      <td>Control</td>\n",
       "    </tr>\n",
       "    <tr>\n",
       "      <th>3</th>\n",
       "      <td>1982004</td>\n",
       "      <td>Test</td>\n",
       "    </tr>\n",
       "    <tr>\n",
       "      <th>4</th>\n",
       "      <td>9294070</td>\n",
       "      <td>Control</td>\n",
       "    </tr>\n",
       "  </tbody>\n",
       "</table>\n",
       "</div>"
      ],
      "text/plain": [
       "   client_id Variation\n",
       "0    9988021      Test\n",
       "1    8320017      Test\n",
       "2    4033851   Control\n",
       "3    1982004      Test\n",
       "4    9294070   Control"
      ]
     },
     "execution_count": 42,
     "metadata": {},
     "output_type": "execute_result"
    }
   ],
   "source": [
    "clients_included.head()"
   ]
  },
  {
   "cell_type": "code",
   "execution_count": 43,
   "id": "71f04373",
   "metadata": {},
   "outputs": [
    {
     "data": {
      "text/html": [
       "<div>\n",
       "<style scoped>\n",
       "    .dataframe tbody tr th:only-of-type {\n",
       "        vertical-align: middle;\n",
       "    }\n",
       "\n",
       "    .dataframe tbody tr th {\n",
       "        vertical-align: top;\n",
       "    }\n",
       "\n",
       "    .dataframe thead th {\n",
       "        text-align: right;\n",
       "    }\n",
       "</style>\n",
       "<table border=\"1\" class=\"dataframe\">\n",
       "  <thead>\n",
       "    <tr style=\"text-align: right;\">\n",
       "      <th></th>\n",
       "      <th>client_id</th>\n",
       "      <th>visitor_id</th>\n",
       "      <th>visit_id</th>\n",
       "      <th>process_step</th>\n",
       "      <th>date_time</th>\n",
       "    </tr>\n",
       "  </thead>\n",
       "  <tbody>\n",
       "    <tr>\n",
       "      <th>0</th>\n",
       "      <td>9988021</td>\n",
       "      <td>580560515_7732621733</td>\n",
       "      <td>781255054_21935453173_531117</td>\n",
       "      <td>step_3</td>\n",
       "      <td>2017-04-17 15:27:07</td>\n",
       "    </tr>\n",
       "    <tr>\n",
       "      <th>1</th>\n",
       "      <td>9988021</td>\n",
       "      <td>580560515_7732621733</td>\n",
       "      <td>781255054_21935453173_531117</td>\n",
       "      <td>step_2</td>\n",
       "      <td>2017-04-17 15:26:51</td>\n",
       "    </tr>\n",
       "    <tr>\n",
       "      <th>2</th>\n",
       "      <td>9988021</td>\n",
       "      <td>580560515_7732621733</td>\n",
       "      <td>781255054_21935453173_531117</td>\n",
       "      <td>step_3</td>\n",
       "      <td>2017-04-17 15:19:22</td>\n",
       "    </tr>\n",
       "    <tr>\n",
       "      <th>3</th>\n",
       "      <td>9988021</td>\n",
       "      <td>580560515_7732621733</td>\n",
       "      <td>781255054_21935453173_531117</td>\n",
       "      <td>step_2</td>\n",
       "      <td>2017-04-17 15:19:13</td>\n",
       "    </tr>\n",
       "    <tr>\n",
       "      <th>4</th>\n",
       "      <td>9988021</td>\n",
       "      <td>580560515_7732621733</td>\n",
       "      <td>781255054_21935453173_531117</td>\n",
       "      <td>step_3</td>\n",
       "      <td>2017-04-17 15:18:04</td>\n",
       "    </tr>\n",
       "  </tbody>\n",
       "</table>\n",
       "</div>"
      ],
      "text/plain": [
       "   client_id            visitor_id                      visit_id process_step  \\\n",
       "0    9988021  580560515_7732621733  781255054_21935453173_531117       step_3   \n",
       "1    9988021  580560515_7732621733  781255054_21935453173_531117       step_2   \n",
       "2    9988021  580560515_7732621733  781255054_21935453173_531117       step_3   \n",
       "3    9988021  580560515_7732621733  781255054_21935453173_531117       step_2   \n",
       "4    9988021  580560515_7732621733  781255054_21935453173_531117       step_3   \n",
       "\n",
       "             date_time  \n",
       "0  2017-04-17 15:27:07  \n",
       "1  2017-04-17 15:26:51  \n",
       "2  2017-04-17 15:19:22  \n",
       "3  2017-04-17 15:19:13  \n",
       "4  2017-04-17 15:18:04  "
      ]
     },
     "execution_count": 43,
     "metadata": {},
     "output_type": "execute_result"
    }
   ],
   "source": [
    "digital_foot.head()"
   ]
  },
  {
   "cell_type": "code",
   "execution_count": 44,
   "id": "d653a0c5",
   "metadata": {
    "scrolled": true
   },
   "outputs": [
    {
     "data": {
      "text/html": [
       "<div>\n",
       "<style scoped>\n",
       "    .dataframe tbody tr th:only-of-type {\n",
       "        vertical-align: middle;\n",
       "    }\n",
       "\n",
       "    .dataframe tbody tr th {\n",
       "        vertical-align: top;\n",
       "    }\n",
       "\n",
       "    .dataframe thead th {\n",
       "        text-align: right;\n",
       "    }\n",
       "</style>\n",
       "<table border=\"1\" class=\"dataframe\">\n",
       "  <thead>\n",
       "    <tr style=\"text-align: right;\">\n",
       "      <th></th>\n",
       "      <th>client_id</th>\n",
       "      <th>Variation</th>\n",
       "      <th>visitor_id</th>\n",
       "      <th>visit_id</th>\n",
       "      <th>process_step</th>\n",
       "      <th>date_time</th>\n",
       "    </tr>\n",
       "  </thead>\n",
       "  <tbody>\n",
       "    <tr>\n",
       "      <th>0</th>\n",
       "      <td>9988021</td>\n",
       "      <td>Test</td>\n",
       "      <td>580560515_7732621733</td>\n",
       "      <td>781255054_21935453173_531117</td>\n",
       "      <td>step_3</td>\n",
       "      <td>2017-04-17 15:27:07</td>\n",
       "    </tr>\n",
       "    <tr>\n",
       "      <th>1</th>\n",
       "      <td>9988021</td>\n",
       "      <td>Test</td>\n",
       "      <td>580560515_7732621733</td>\n",
       "      <td>781255054_21935453173_531117</td>\n",
       "      <td>step_2</td>\n",
       "      <td>2017-04-17 15:26:51</td>\n",
       "    </tr>\n",
       "    <tr>\n",
       "      <th>2</th>\n",
       "      <td>9988021</td>\n",
       "      <td>Test</td>\n",
       "      <td>580560515_7732621733</td>\n",
       "      <td>781255054_21935453173_531117</td>\n",
       "      <td>step_3</td>\n",
       "      <td>2017-04-17 15:19:22</td>\n",
       "    </tr>\n",
       "    <tr>\n",
       "      <th>3</th>\n",
       "      <td>9988021</td>\n",
       "      <td>Test</td>\n",
       "      <td>580560515_7732621733</td>\n",
       "      <td>781255054_21935453173_531117</td>\n",
       "      <td>step_2</td>\n",
       "      <td>2017-04-17 15:19:13</td>\n",
       "    </tr>\n",
       "    <tr>\n",
       "      <th>4</th>\n",
       "      <td>9988021</td>\n",
       "      <td>Test</td>\n",
       "      <td>580560515_7732621733</td>\n",
       "      <td>781255054_21935453173_531117</td>\n",
       "      <td>step_3</td>\n",
       "      <td>2017-04-17 15:18:04</td>\n",
       "    </tr>\n",
       "    <tr>\n",
       "      <th>...</th>\n",
       "      <td>...</td>\n",
       "      <td>...</td>\n",
       "      <td>...</td>\n",
       "      <td>...</td>\n",
       "      <td>...</td>\n",
       "      <td>...</td>\n",
       "    </tr>\n",
       "    <tr>\n",
       "      <th>321304</th>\n",
       "      <td>6334360</td>\n",
       "      <td>Test</td>\n",
       "      <td>629124187_65258232847</td>\n",
       "      <td>586047816_14599436811_389185</td>\n",
       "      <td>step_2</td>\n",
       "      <td>2017-04-11 08:45:38</td>\n",
       "    </tr>\n",
       "    <tr>\n",
       "      <th>321305</th>\n",
       "      <td>6334360</td>\n",
       "      <td>Test</td>\n",
       "      <td>629124187_65258232847</td>\n",
       "      <td>586047816_14599436811_389185</td>\n",
       "      <td>step_1</td>\n",
       "      <td>2017-04-11 08:44:43</td>\n",
       "    </tr>\n",
       "    <tr>\n",
       "      <th>321306</th>\n",
       "      <td>6334360</td>\n",
       "      <td>Test</td>\n",
       "      <td>629124187_65258232847</td>\n",
       "      <td>586047816_14599436811_389185</td>\n",
       "      <td>step_2</td>\n",
       "      <td>2017-04-11 08:44:30</td>\n",
       "    </tr>\n",
       "    <tr>\n",
       "      <th>321307</th>\n",
       "      <td>6334360</td>\n",
       "      <td>Test</td>\n",
       "      <td>629124187_65258232847</td>\n",
       "      <td>586047816_14599436811_389185</td>\n",
       "      <td>step_1</td>\n",
       "      <td>2017-04-11 08:42:36</td>\n",
       "    </tr>\n",
       "    <tr>\n",
       "      <th>321308</th>\n",
       "      <td>6334360</td>\n",
       "      <td>Test</td>\n",
       "      <td>629124187_65258232847</td>\n",
       "      <td>586047816_14599436811_389185</td>\n",
       "      <td>start</td>\n",
       "      <td>2017-04-11 08:42:20</td>\n",
       "    </tr>\n",
       "  </tbody>\n",
       "</table>\n",
       "<p>321309 rows × 6 columns</p>\n",
       "</div>"
      ],
      "text/plain": [
       "        client_id Variation             visitor_id  \\\n",
       "0         9988021      Test   580560515_7732621733   \n",
       "1         9988021      Test   580560515_7732621733   \n",
       "2         9988021      Test   580560515_7732621733   \n",
       "3         9988021      Test   580560515_7732621733   \n",
       "4         9988021      Test   580560515_7732621733   \n",
       "...           ...       ...                    ...   \n",
       "321304    6334360      Test  629124187_65258232847   \n",
       "321305    6334360      Test  629124187_65258232847   \n",
       "321306    6334360      Test  629124187_65258232847   \n",
       "321307    6334360      Test  629124187_65258232847   \n",
       "321308    6334360      Test  629124187_65258232847   \n",
       "\n",
       "                            visit_id process_step            date_time  \n",
       "0       781255054_21935453173_531117       step_3  2017-04-17 15:27:07  \n",
       "1       781255054_21935453173_531117       step_2  2017-04-17 15:26:51  \n",
       "2       781255054_21935453173_531117       step_3  2017-04-17 15:19:22  \n",
       "3       781255054_21935453173_531117       step_2  2017-04-17 15:19:13  \n",
       "4       781255054_21935453173_531117       step_3  2017-04-17 15:18:04  \n",
       "...                              ...          ...                  ...  \n",
       "321304  586047816_14599436811_389185       step_2  2017-04-11 08:45:38  \n",
       "321305  586047816_14599436811_389185       step_1  2017-04-11 08:44:43  \n",
       "321306  586047816_14599436811_389185       step_2  2017-04-11 08:44:30  \n",
       "321307  586047816_14599436811_389185       step_1  2017-04-11 08:42:36  \n",
       "321308  586047816_14599436811_389185        start  2017-04-11 08:42:20  \n",
       "\n",
       "[321309 rows x 6 columns]"
      ]
     },
     "execution_count": 44,
     "metadata": {},
     "output_type": "execute_result"
    }
   ],
   "source": [
    "# filter the digital foot print data for only those that were part of the A/Btesting\n",
    "filtered_digital = pd.merge(clients_included,digital_foot,on='client_id',how='left')\n",
    "filtered_digital"
   ]
  },
  {
   "cell_type": "code",
   "execution_count": 45,
   "id": "44b8c8ea",
   "metadata": {},
   "outputs": [
    {
     "data": {
      "text/plain": [
       "client_id       0\n",
       "Variation       0\n",
       "visitor_id      0\n",
       "visit_id        0\n",
       "process_step    0\n",
       "date_time       0\n",
       "dtype: int64"
      ]
     },
     "execution_count": 45,
     "metadata": {},
     "output_type": "execute_result"
    }
   ],
   "source": [
    "filtered_digital.isna().sum()"
   ]
  },
  {
   "cell_type": "code",
   "execution_count": 46,
   "id": "aabbc1b7",
   "metadata": {},
   "outputs": [
    {
     "data": {
      "text/plain": [
       "array(['Test', 'Control'], dtype=object)"
      ]
     },
     "execution_count": 46,
     "metadata": {},
     "output_type": "execute_result"
    }
   ],
   "source": [
    "filtered_digital['Variation'].unique()"
   ]
  },
  {
   "cell_type": "code",
   "execution_count": 47,
   "id": "80cb1894",
   "metadata": {},
   "outputs": [
    {
     "data": {
      "text/html": [
       "<div>\n",
       "<style scoped>\n",
       "    .dataframe tbody tr th:only-of-type {\n",
       "        vertical-align: middle;\n",
       "    }\n",
       "\n",
       "    .dataframe tbody tr th {\n",
       "        vertical-align: top;\n",
       "    }\n",
       "\n",
       "    .dataframe thead th {\n",
       "        text-align: right;\n",
       "    }\n",
       "</style>\n",
       "<table border=\"1\" class=\"dataframe\">\n",
       "  <thead>\n",
       "    <tr style=\"text-align: right;\">\n",
       "      <th>col_0</th>\n",
       "      <th>count</th>\n",
       "    </tr>\n",
       "    <tr>\n",
       "      <th>Variation</th>\n",
       "      <th></th>\n",
       "    </tr>\n",
       "  </thead>\n",
       "  <tbody>\n",
       "    <tr>\n",
       "      <th>Control</th>\n",
       "      <td>23532</td>\n",
       "    </tr>\n",
       "    <tr>\n",
       "      <th>Test</th>\n",
       "      <td>26968</td>\n",
       "    </tr>\n",
       "  </tbody>\n",
       "</table>\n",
       "</div>"
      ],
      "text/plain": [
       "col_0      count\n",
       "Variation       \n",
       "Control    23532\n",
       "Test       26968"
      ]
     },
     "execution_count": 47,
     "metadata": {},
     "output_type": "execute_result"
    }
   ],
   "source": [
    "# Test/Control crosstab\n",
    "variation_table_v2 = pd.crosstab(index = clients_included['Variation'],columns='count')\n",
    "variation_table_v2"
   ]
  },
  {
   "cell_type": "code",
   "execution_count": 48,
   "id": "573b2931",
   "metadata": {},
   "outputs": [
    {
     "data": {
      "text/html": [
       "<div>\n",
       "<style scoped>\n",
       "    .dataframe tbody tr th:only-of-type {\n",
       "        vertical-align: middle;\n",
       "    }\n",
       "\n",
       "    .dataframe tbody tr th {\n",
       "        vertical-align: top;\n",
       "    }\n",
       "\n",
       "    .dataframe thead th {\n",
       "        text-align: right;\n",
       "    }\n",
       "</style>\n",
       "<table border=\"1\" class=\"dataframe\">\n",
       "  <thead>\n",
       "    <tr style=\"text-align: right;\">\n",
       "      <th></th>\n",
       "      <th>client_id</th>\n",
       "      <th>Variation</th>\n",
       "      <th>visitor_id</th>\n",
       "      <th>visit_id</th>\n",
       "      <th>process_step</th>\n",
       "      <th>date_time</th>\n",
       "    </tr>\n",
       "  </thead>\n",
       "  <tbody>\n",
       "    <tr>\n",
       "      <th>0</th>\n",
       "      <td>9988021</td>\n",
       "      <td>Test</td>\n",
       "      <td>580560515_7732621733</td>\n",
       "      <td>781255054_21935453173_531117</td>\n",
       "      <td>step_3</td>\n",
       "      <td>2017-04-17 15:27:07</td>\n",
       "    </tr>\n",
       "    <tr>\n",
       "      <th>1</th>\n",
       "      <td>9988021</td>\n",
       "      <td>Test</td>\n",
       "      <td>580560515_7732621733</td>\n",
       "      <td>781255054_21935453173_531117</td>\n",
       "      <td>step_2</td>\n",
       "      <td>2017-04-17 15:26:51</td>\n",
       "    </tr>\n",
       "    <tr>\n",
       "      <th>2</th>\n",
       "      <td>9988021</td>\n",
       "      <td>Test</td>\n",
       "      <td>580560515_7732621733</td>\n",
       "      <td>781255054_21935453173_531117</td>\n",
       "      <td>step_3</td>\n",
       "      <td>2017-04-17 15:19:22</td>\n",
       "    </tr>\n",
       "    <tr>\n",
       "      <th>3</th>\n",
       "      <td>9988021</td>\n",
       "      <td>Test</td>\n",
       "      <td>580560515_7732621733</td>\n",
       "      <td>781255054_21935453173_531117</td>\n",
       "      <td>step_2</td>\n",
       "      <td>2017-04-17 15:19:13</td>\n",
       "    </tr>\n",
       "    <tr>\n",
       "      <th>4</th>\n",
       "      <td>9988021</td>\n",
       "      <td>Test</td>\n",
       "      <td>580560515_7732621733</td>\n",
       "      <td>781255054_21935453173_531117</td>\n",
       "      <td>step_3</td>\n",
       "      <td>2017-04-17 15:18:04</td>\n",
       "    </tr>\n",
       "  </tbody>\n",
       "</table>\n",
       "</div>"
      ],
      "text/plain": [
       "   client_id Variation            visitor_id                      visit_id  \\\n",
       "0    9988021      Test  580560515_7732621733  781255054_21935453173_531117   \n",
       "1    9988021      Test  580560515_7732621733  781255054_21935453173_531117   \n",
       "2    9988021      Test  580560515_7732621733  781255054_21935453173_531117   \n",
       "3    9988021      Test  580560515_7732621733  781255054_21935453173_531117   \n",
       "4    9988021      Test  580560515_7732621733  781255054_21935453173_531117   \n",
       "\n",
       "  process_step            date_time  \n",
       "0       step_3  2017-04-17 15:27:07  \n",
       "1       step_2  2017-04-17 15:26:51  \n",
       "2       step_3  2017-04-17 15:19:22  \n",
       "3       step_2  2017-04-17 15:19:13  \n",
       "4       step_3  2017-04-17 15:18:04  "
      ]
     },
     "execution_count": 48,
     "metadata": {},
     "output_type": "execute_result"
    }
   ],
   "source": [
    "filtered_digital.head()"
   ]
  },
  {
   "cell_type": "markdown",
   "id": "2caa4fbd",
   "metadata": {},
   "source": [
    "##### Categorical vs categorical"
   ]
  },
  {
   "cell_type": "code",
   "execution_count": 49,
   "id": "7fc8a3d4",
   "metadata": {},
   "outputs": [
    {
     "data": {
      "text/html": [
       "<div>\n",
       "<style scoped>\n",
       "    .dataframe tbody tr th:only-of-type {\n",
       "        vertical-align: middle;\n",
       "    }\n",
       "\n",
       "    .dataframe tbody tr th {\n",
       "        vertical-align: top;\n",
       "    }\n",
       "\n",
       "    .dataframe thead th {\n",
       "        text-align: right;\n",
       "    }\n",
       "</style>\n",
       "<table border=\"1\" class=\"dataframe\">\n",
       "  <thead>\n",
       "    <tr style=\"text-align: right;\">\n",
       "      <th>process_step</th>\n",
       "      <th>confirm</th>\n",
       "      <th>start</th>\n",
       "      <th>step_1</th>\n",
       "      <th>step_2</th>\n",
       "      <th>step_3</th>\n",
       "    </tr>\n",
       "    <tr>\n",
       "      <th>Variation</th>\n",
       "      <th></th>\n",
       "      <th></th>\n",
       "      <th></th>\n",
       "      <th></th>\n",
       "      <th></th>\n",
       "    </tr>\n",
       "  </thead>\n",
       "  <tbody>\n",
       "    <tr>\n",
       "      <th>Control</th>\n",
       "      <td>17505</td>\n",
       "      <td>47608</td>\n",
       "      <td>29668</td>\n",
       "      <td>25886</td>\n",
       "      <td>22795</td>\n",
       "    </tr>\n",
       "    <tr>\n",
       "      <th>Test</th>\n",
       "      <td>25722</td>\n",
       "      <td>56474</td>\n",
       "      <td>38768</td>\n",
       "      <td>30989</td>\n",
       "      <td>25894</td>\n",
       "    </tr>\n",
       "  </tbody>\n",
       "</table>\n",
       "</div>"
      ],
      "text/plain": [
       "process_step  confirm  start  step_1  step_2  step_3\n",
       "Variation                                           \n",
       "Control         17505  47608   29668   25886   22795\n",
       "Test            25722  56474   38768   30989   25894"
      ]
     },
     "execution_count": 49,
     "metadata": {},
     "output_type": "execute_result"
    }
   ],
   "source": [
    "# crosstab of variation and process_step\n",
    "var_process_crosstab = pd.crosstab(filtered_digital['Variation'],filtered_digital['process_step'])\n",
    "var_process_crosstab"
   ]
  },
  {
   "cell_type": "code",
   "execution_count": 50,
   "id": "907e4433",
   "metadata": {},
   "outputs": [
    {
     "data": {
      "text/plain": [
       "(508.4364763023511, 1.0030756272740076e-108)"
      ]
     },
     "execution_count": 50,
     "metadata": {},
     "output_type": "execute_result"
    }
   ],
   "source": [
    "# chi square test for variation and process step\n",
    "chi2_stats,chi2_p_value,_,_ = chi2_contingency(var_process_crosstab)\n",
    "\n",
    "chi2_stats,chi2_p_value\n"
   ]
  },
  {
   "cell_type": "code",
   "execution_count": 51,
   "id": "9b86a1c3",
   "metadata": {},
   "outputs": [
    {
     "data": {
      "text/plain": [
       "<Axes: xlabel='Variation'>"
      ]
     },
     "execution_count": 51,
     "metadata": {},
     "output_type": "execute_result"
    },
    {
     "data": {
      "image/png": "[encoded data removed]",
      "text/plain": [
       "<Figure size 640x480 with 1 Axes>"
      ]
     },
     "metadata": {},
     "output_type": "display_data"
    }
   ],
   "source": [
    "# plotting stacked bar for the crosstab\n",
    "var_process_crosstab.plot(kind=\"bar\",stacked = True)"
   ]
  },
  {
   "cell_type": "code",
   "execution_count": 52,
   "id": "f6984792",
   "metadata": {},
   "outputs": [
    {
     "data": {
      "text/plain": [
       "<Axes: xlabel='gendr', ylabel='num_accts'>"
      ]
     },
     "execution_count": 52,
     "metadata": {},
     "output_type": "execute_result"
    },
    {
     "data": {
      "image/png": "[encoded data removed]",
      "text/plain": [
       "<Figure size 640x480 with 1 Axes>"
      ]
     },
     "metadata": {},
     "output_type": "display_data"
    }
   ],
   "source": [
    "# categorical vs continous\n",
    "# gender and num of accounts in the client_data\n",
    "# Violin plots\n",
    "sns.violinplot(data=client_data, x='gendr', y='num_accts',palette='coolwarm')"
   ]
  },
  {
   "cell_type": "code",
   "execution_count": 53,
   "id": "d7dbd282",
   "metadata": {},
   "outputs": [
    {
     "data": {
      "text/plain": [
       "<Axes: xlabel='gendr', ylabel='num_accts'>"
      ]
     },
     "execution_count": 53,
     "metadata": {},
     "output_type": "execute_result"
    },
    {
     "data": {
      "image/png": "[encoded data removed]",
      "text/plain": [
       "<Figure size 640x480 with 1 Axes>"
      ]
     },
     "metadata": {},
     "output_type": "display_data"
    }
   ],
   "source": [
    "# bar chart of the gender and num of accounts\n",
    "sns.barplot(data=client_data,x='gendr',y='num_accts',palette='coolwarm')"
   ]
  },
  {
   "cell_type": "markdown",
   "id": "2fe8381f",
   "metadata": {},
   "source": [
    "## Hypothesis Testing"
   ]
  },
  {
   "cell_type": "code",
   "execution_count": 54,
   "id": "54fd3fe1",
   "metadata": {},
   "outputs": [
    {
     "data": {
      "text/html": [
       "<div>\n",
       "<style scoped>\n",
       "    .dataframe tbody tr th:only-of-type {\n",
       "        vertical-align: middle;\n",
       "    }\n",
       "\n",
       "    .dataframe tbody tr th {\n",
       "        vertical-align: top;\n",
       "    }\n",
       "\n",
       "    .dataframe thead th {\n",
       "        text-align: right;\n",
       "    }\n",
       "</style>\n",
       "<table border=\"1\" class=\"dataframe\">\n",
       "  <thead>\n",
       "    <tr style=\"text-align: right;\">\n",
       "      <th></th>\n",
       "      <th>client_id</th>\n",
       "      <th>Variation</th>\n",
       "      <th>visitor_id</th>\n",
       "      <th>visit_id</th>\n",
       "      <th>date_time</th>\n",
       "      <th>process_step_confirm</th>\n",
       "      <th>process_step_start</th>\n",
       "      <th>process_step_step_1</th>\n",
       "      <th>process_step_step_2</th>\n",
       "      <th>process_step_step_3</th>\n",
       "    </tr>\n",
       "  </thead>\n",
       "  <tbody>\n",
       "    <tr>\n",
       "      <th>0</th>\n",
       "      <td>9988021</td>\n",
       "      <td>Test</td>\n",
       "      <td>580560515_7732621733</td>\n",
       "      <td>781255054_21935453173_531117</td>\n",
       "      <td>2017-04-17 15:27:07</td>\n",
       "      <td>0</td>\n",
       "      <td>0</td>\n",
       "      <td>0</td>\n",
       "      <td>0</td>\n",
       "      <td>1</td>\n",
       "    </tr>\n",
       "    <tr>\n",
       "      <th>1</th>\n",
       "      <td>9988021</td>\n",
       "      <td>Test</td>\n",
       "      <td>580560515_7732621733</td>\n",
       "      <td>781255054_21935453173_531117</td>\n",
       "      <td>2017-04-17 15:26:51</td>\n",
       "      <td>0</td>\n",
       "      <td>0</td>\n",
       "      <td>0</td>\n",
       "      <td>1</td>\n",
       "      <td>0</td>\n",
       "    </tr>\n",
       "    <tr>\n",
       "      <th>2</th>\n",
       "      <td>9988021</td>\n",
       "      <td>Test</td>\n",
       "      <td>580560515_7732621733</td>\n",
       "      <td>781255054_21935453173_531117</td>\n",
       "      <td>2017-04-17 15:19:22</td>\n",
       "      <td>0</td>\n",
       "      <td>0</td>\n",
       "      <td>0</td>\n",
       "      <td>0</td>\n",
       "      <td>1</td>\n",
       "    </tr>\n",
       "    <tr>\n",
       "      <th>3</th>\n",
       "      <td>9988021</td>\n",
       "      <td>Test</td>\n",
       "      <td>580560515_7732621733</td>\n",
       "      <td>781255054_21935453173_531117</td>\n",
       "      <td>2017-04-17 15:19:13</td>\n",
       "      <td>0</td>\n",
       "      <td>0</td>\n",
       "      <td>0</td>\n",
       "      <td>1</td>\n",
       "      <td>0</td>\n",
       "    </tr>\n",
       "    <tr>\n",
       "      <th>4</th>\n",
       "      <td>9988021</td>\n",
       "      <td>Test</td>\n",
       "      <td>580560515_7732621733</td>\n",
       "      <td>781255054_21935453173_531117</td>\n",
       "      <td>2017-04-17 15:18:04</td>\n",
       "      <td>0</td>\n",
       "      <td>0</td>\n",
       "      <td>0</td>\n",
       "      <td>0</td>\n",
       "      <td>1</td>\n",
       "    </tr>\n",
       "    <tr>\n",
       "      <th>...</th>\n",
       "      <td>...</td>\n",
       "      <td>...</td>\n",
       "      <td>...</td>\n",
       "      <td>...</td>\n",
       "      <td>...</td>\n",
       "      <td>...</td>\n",
       "      <td>...</td>\n",
       "      <td>...</td>\n",
       "      <td>...</td>\n",
       "      <td>...</td>\n",
       "    </tr>\n",
       "    <tr>\n",
       "      <th>321304</th>\n",
       "      <td>6334360</td>\n",
       "      <td>Test</td>\n",
       "      <td>629124187_65258232847</td>\n",
       "      <td>586047816_14599436811_389185</td>\n",
       "      <td>2017-04-11 08:45:38</td>\n",
       "      <td>0</td>\n",
       "      <td>0</td>\n",
       "      <td>0</td>\n",
       "      <td>1</td>\n",
       "      <td>0</td>\n",
       "    </tr>\n",
       "    <tr>\n",
       "      <th>321305</th>\n",
       "      <td>6334360</td>\n",
       "      <td>Test</td>\n",
       "      <td>629124187_65258232847</td>\n",
       "      <td>586047816_14599436811_389185</td>\n",
       "      <td>2017-04-11 08:44:43</td>\n",
       "      <td>0</td>\n",
       "      <td>0</td>\n",
       "      <td>1</td>\n",
       "      <td>0</td>\n",
       "      <td>0</td>\n",
       "    </tr>\n",
       "    <tr>\n",
       "      <th>321306</th>\n",
       "      <td>6334360</td>\n",
       "      <td>Test</td>\n",
       "      <td>629124187_65258232847</td>\n",
       "      <td>586047816_14599436811_389185</td>\n",
       "      <td>2017-04-11 08:44:30</td>\n",
       "      <td>0</td>\n",
       "      <td>0</td>\n",
       "      <td>0</td>\n",
       "      <td>1</td>\n",
       "      <td>0</td>\n",
       "    </tr>\n",
       "    <tr>\n",
       "      <th>321307</th>\n",
       "      <td>6334360</td>\n",
       "      <td>Test</td>\n",
       "      <td>629124187_65258232847</td>\n",
       "      <td>586047816_14599436811_389185</td>\n",
       "      <td>2017-04-11 08:42:36</td>\n",
       "      <td>0</td>\n",
       "      <td>0</td>\n",
       "      <td>1</td>\n",
       "      <td>0</td>\n",
       "      <td>0</td>\n",
       "    </tr>\n",
       "    <tr>\n",
       "      <th>321308</th>\n",
       "      <td>6334360</td>\n",
       "      <td>Test</td>\n",
       "      <td>629124187_65258232847</td>\n",
       "      <td>586047816_14599436811_389185</td>\n",
       "      <td>2017-04-11 08:42:20</td>\n",
       "      <td>0</td>\n",
       "      <td>1</td>\n",
       "      <td>0</td>\n",
       "      <td>0</td>\n",
       "      <td>0</td>\n",
       "    </tr>\n",
       "  </tbody>\n",
       "</table>\n",
       "<p>321309 rows × 10 columns</p>\n",
       "</div>"
      ],
      "text/plain": [
       "        client_id Variation             visitor_id  \\\n",
       "0         9988021      Test   580560515_7732621733   \n",
       "1         9988021      Test   580560515_7732621733   \n",
       "2         9988021      Test   580560515_7732621733   \n",
       "3         9988021      Test   580560515_7732621733   \n",
       "4         9988021      Test   580560515_7732621733   \n",
       "...           ...       ...                    ...   \n",
       "321304    6334360      Test  629124187_65258232847   \n",
       "321305    6334360      Test  629124187_65258232847   \n",
       "321306    6334360      Test  629124187_65258232847   \n",
       "321307    6334360      Test  629124187_65258232847   \n",
       "321308    6334360      Test  629124187_65258232847   \n",
       "\n",
       "                            visit_id            date_time  \\\n",
       "0       781255054_21935453173_531117  2017-04-17 15:27:07   \n",
       "1       781255054_21935453173_531117  2017-04-17 15:26:51   \n",
       "2       781255054_21935453173_531117  2017-04-17 15:19:22   \n",
       "3       781255054_21935453173_531117  2017-04-17 15:19:13   \n",
       "4       781255054_21935453173_531117  2017-04-17 15:18:04   \n",
       "...                              ...                  ...   \n",
       "321304  586047816_14599436811_389185  2017-04-11 08:45:38   \n",
       "321305  586047816_14599436811_389185  2017-04-11 08:44:43   \n",
       "321306  586047816_14599436811_389185  2017-04-11 08:44:30   \n",
       "321307  586047816_14599436811_389185  2017-04-11 08:42:36   \n",
       "321308  586047816_14599436811_389185  2017-04-11 08:42:20   \n",
       "\n",
       "        process_step_confirm  process_step_start  process_step_step_1  \\\n",
       "0                          0                   0                    0   \n",
       "1                          0                   0                    0   \n",
       "2                          0                   0                    0   \n",
       "3                          0                   0                    0   \n",
       "4                          0                   0                    0   \n",
       "...                      ...                 ...                  ...   \n",
       "321304                     0                   0                    0   \n",
       "321305                     0                   0                    1   \n",
       "321306                     0                   0                    0   \n",
       "321307                     0                   0                    1   \n",
       "321308                     0                   1                    0   \n",
       "\n",
       "        process_step_step_2  process_step_step_3  \n",
       "0                         0                    1  \n",
       "1                         1                    0  \n",
       "2                         0                    1  \n",
       "3                         1                    0  \n",
       "4                         0                    1  \n",
       "...                     ...                  ...  \n",
       "321304                    1                    0  \n",
       "321305                    0                    0  \n",
       "321306                    1                    0  \n",
       "321307                    0                    0  \n",
       "321308                    0                    0  \n",
       "\n",
       "[321309 rows x 10 columns]"
      ]
     },
     "execution_count": 54,
     "metadata": {},
     "output_type": "execute_result"
    }
   ],
   "source": [
    "# one hot encoding the process_step column since the original column is an object column\n",
    "filtered_digital_encoded=pd.get_dummies(filtered_digital,columns=['process_step'])\n",
    "filtered_digital_encoded"
   ]
  },
  {
   "cell_type": "code",
   "execution_count": 64,
   "id": "8f6573b6",
   "metadata": {},
   "outputs": [],
   "source": [
    "# set the hypothesis\n",
    "\n",
    "#H0: The mean(mu) of those that got to the confirm step in the control group is equal to the mean(mu) of those that got to the confirm step in the test group\n",
    "\n",
    "# H0: mu confirm in control group = mu confirm in the test group\n",
    "\n",
    "# H1: The mean()mu of those in the test group that got to the confirm step is greater than those in the control group that got to the confirm step.\n",
    "\n",
    "# H1: mu confirm test group > mu confirm control group\n",
    "\n",
    "# significance level: 0.05\n",
    "\n",
    "# two sample test for two independent variables"
   ]
  },
  {
   "cell_type": "code",
   "execution_count": 75,
   "id": "1efe6a41",
   "metadata": {},
   "outputs": [],
   "source": [
    "# get the data for control group that got to the confirm stage\n",
    "control_group = filtered_digital_encoded[filtered_digital_encoded['Variation']=='Control']['process_step_confirm']\n",
    "\n",
    "# test group data\n",
    "test_group = filtered_digital_encoded[filtered_digital_encoded['Variation']=='Test']['process_step_confirm']"
   ]
  },
  {
   "cell_type": "code",
   "execution_count": 76,
   "id": "7575c663",
   "metadata": {},
   "outputs": [
    {
     "data": {
      "text/plain": [
       "20        1\n",
       "21        1\n",
       "22        1\n",
       "23        0\n",
       "24        0\n",
       "         ..\n",
       "321265    0\n",
       "321266    0\n",
       "321267    0\n",
       "321268    0\n",
       "321269    0\n",
       "Name: process_step_confirm, Length: 143462, dtype: uint8"
      ]
     },
     "execution_count": 76,
     "metadata": {},
     "output_type": "execute_result"
    }
   ],
   "source": [
    "control_group"
   ]
  },
  {
   "cell_type": "code",
   "execution_count": 77,
   "id": "dc1f1622",
   "metadata": {},
   "outputs": [
    {
     "data": {
      "text/plain": [
       "0         0\n",
       "1         0\n",
       "2         0\n",
       "3         0\n",
       "4         0\n",
       "         ..\n",
       "321304    0\n",
       "321305    0\n",
       "321306    0\n",
       "321307    0\n",
       "321308    0\n",
       "Name: process_step_confirm, Length: 177847, dtype: uint8"
      ]
     },
     "execution_count": 77,
     "metadata": {},
     "output_type": "execute_result"
    }
   ],
   "source": [
    "test_group"
   ]
  },
  {
   "cell_type": "code",
   "execution_count": 98,
   "id": "a62da80b",
   "metadata": {},
   "outputs": [],
   "source": [
    "# two sample t-test for two independent variables\n",
    "# Alternative Hypothesis is that the test group confirm mean is greater than the control group confirm mean\n",
    "t_stats,p_value = ttest_ind(test_group,control_group,alternative='greater')"
   ]
  },
  {
   "cell_type": "code",
   "execution_count": 100,
   "id": "90cc1a25",
   "metadata": {},
   "outputs": [
    {
     "name": "stdout",
     "output_type": "stream",
     "text": [
      "t-statistics 18.683323532908005\n",
      "p-value 3.721822126235018e-78\n"
     ]
    }
   ],
   "source": [
    "print(\"t-statistics\",t_stats)\n",
    "print(\"p-value\",p_value)"
   ]
  },
  {
   "cell_type": "code",
   "execution_count": 102,
   "id": "6d4ba256",
   "metadata": {},
   "outputs": [
    {
     "name": "stdout",
     "output_type": "stream",
     "text": [
      "Reject null hypothesis: The mean of those that got to the confirm step in the test group is equal to the mean of those that got to the confirm step in the control group \n"
     ]
    }
   ],
   "source": [
    "# Check if the p-value is less than the significance level (0.05)\n",
    "if p_value < 0.05:\n",
    "    print(\"Reject null hypothesis: The mean of those that got to the confirm step in the test group is equal to the mean of those that got to the confirm step in the control group \")\n",
    "else:\n",
    "    print(\"Fail to reject null hypothesis: The mean of those that reached the confirm step in the test group is greater than the mean of those that got to the confirm step in the test group\")"
   ]
  },
  {
   "cell_type": "code",
   "execution_count": 88,
   "id": "7296cbcb",
   "metadata": {},
   "outputs": [
    {
     "data": {
      "text/plain": [
       "0.12201837420362187"
      ]
     },
     "execution_count": 88,
     "metadata": {},
     "output_type": "execute_result"
    }
   ],
   "source": [
    "control_group.mean()"
   ]
  },
  {
   "cell_type": "code",
   "execution_count": 82,
   "id": "84058ff7",
   "metadata": {},
   "outputs": [
    {
     "data": {
      "text/plain": [
       "0.1446299347191687"
      ]
     },
     "execution_count": 82,
     "metadata": {},
     "output_type": "execute_result"
    }
   ],
   "source": [
    "test_group.mean()"
   ]
  },
  {
   "cell_type": "code",
   "execution_count": 83,
   "id": "132944ff",
   "metadata": {},
   "outputs": [
    {
     "data": {
      "text/plain": [
       "0    125957\n",
       "1     17505\n",
       "Name: process_step_confirm, dtype: int64"
      ]
     },
     "execution_count": 83,
     "metadata": {},
     "output_type": "execute_result"
    }
   ],
   "source": [
    "control_group.value_counts()"
   ]
  },
  {
   "cell_type": "code",
   "execution_count": 85,
   "id": "a7307bdc",
   "metadata": {},
   "outputs": [
    {
     "data": {
      "text/plain": [
       "0    152125\n",
       "1     25722\n",
       "Name: process_step_confirm, dtype: int64"
      ]
     },
     "execution_count": 85,
     "metadata": {},
     "output_type": "execute_result"
    }
   ],
   "source": [
    "test_group.value_counts()"
   ]
  },
  {
   "cell_type": "code",
   "execution_count": null,
   "id": "a420162d",
   "metadata": {},
   "outputs": [],
   "source": []
  },
  {
   "cell_type": "code",
   "execution_count": null,
   "id": "fe42f310",
   "metadata": {},
   "outputs": [],
   "source": []
  },
  {
   "cell_type": "code",
   "execution_count": null,
   "id": "fde7bd48",
   "metadata": {},
   "outputs": [],
   "source": []
  },
  {
   "cell_type": "code",
   "execution_count": null,
   "id": "75ca2155",
   "metadata": {},
   "outputs": [],
   "source": []
  },
  {
   "cell_type": "code",
   "execution_count": null,
   "id": "d00a6fca",
   "metadata": {},
   "outputs": [],
   "source": []
  }
 ],
 "metadata": {
  "kernelspec": {
   "display_name": "Python 3 (ipykernel)",
   "language": "python",
   "name": "python3"
  },
  "language_info": {
   "codemirror_mode": {
    "name": "ipython",
    "version": 3
   },
   "file_extension": ".py",
   "mimetype": "text/x-python",
   "name": "python",
   "nbconvert_exporter": "python",
   "pygments_lexer": "ipython3",
   "version": "3.9.19"
  }
 },
 "nbformat": 4,
 "nbformat_minor": 5
}
